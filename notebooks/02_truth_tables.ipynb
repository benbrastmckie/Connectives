{
 "cells": [
  {
   "cell_type": "markdown",
   "metadata": {},
   "source": [
    "# Truth Tables and BitVec Encoding\n",
    "\n",
    "This notebook explains how the Nice Connectives project represents truth tables using BitVec encoding.\n",
    "\n",
    "## Learning Objectives\n",
    "\n",
    "By the end of this notebook, you will understand:\n",
    "- How truth tables are encoded as integers (BitVec representation)\n",
    "- The row indexing scheme for n-ary connectives\n",
    "- How to decode truth table values\n",
    "- Ternary connectives and their 256 possibilities\n",
    "- The naming convention (f{arity}_{truth_table})"
   ]
  },
  {
   "cell_type": "code",
   "execution_count": 1,
   "metadata": {},
   "outputs": [
    {
     "name": "stdout",
     "output_type": "stream",
     "text": [
      "✓ Project root added to path: /home/benjamin/Documents/Philosophy/Projects/Z3/nice_connectives\n"
     ]
    }
   ],
   "source": [
    "# Setup Python path to find the src module\n",
    "import sys\n",
    "from pathlib import Path\n",
    "\n",
    "# Add project root to Python path\n",
    "project_root = Path.cwd().parent\n",
    "if str(project_root) not in sys.path:\n",
    "    sys.path.insert(0, str(project_root))\n",
    "\n",
    "print(f\"✓ Project root added to path: {project_root}\")"
   ]
  },
  {
   "cell_type": "markdown",
   "metadata": {},
   "source": [
    "## 0. Python Path Setup\n",
    "\n",
    "First, let's ensure Python can find the project modules:"
   ]
  },
  {
   "cell_type": "code",
   "execution_count": 2,
   "metadata": {},
   "outputs": [
    {
     "name": "stdout",
     "output_type": "stream",
     "text": [
      "✓ Setup complete\n"
     ]
    }
   ],
   "source": [
    "# Setup\n",
    "from src.connectives import Connective\n",
    "from src.constants import AND, OR, XOR, NOT\n",
    "from notebooks.utils import display_truth_table, visualize_truth_table\n",
    "\n",
    "import matplotlib.pyplot as plt\n",
    "%matplotlib inline\n",
    "\n",
    "print(\"✓ Setup complete\")"
   ]
  },
  {
   "cell_type": "markdown",
   "metadata": {},
   "source": [
    "## 1. BitVec Encoding\n",
    "\n",
    "### The Key Idea\n",
    "\n",
    "Truth tables are represented as **integers** where each bit corresponds to one row's output.\n",
    "\n",
    "**Bit i** of the integer = **output for row i**\n",
    "\n",
    "### Example: AND Connective"
   ]
  },
  {
   "cell_type": "code",
   "execution_count": 3,
   "metadata": {},
   "outputs": [
    {
     "name": "stdout",
     "output_type": "stream",
     "text": [
      "AND truth table value: 8\n",
      "Binary representation: 0b1000\n",
      "\n",
      "Truth table:\n",
      "   x0  x1  output\n",
      "0   0   0       0\n",
      "1   1   0       0\n",
      "2   0   1       0\n",
      "3   1   1       1\n"
     ]
    }
   ],
   "source": [
    "# AND has truth table value 8\n",
    "print(f\"AND truth table value: {AND.truth_table_int}\")\n",
    "print(f\"Binary representation: 0b{AND.truth_table_int:04b}\")\n",
    "print()\n",
    "print(\"Truth table:\")\n",
    "print(display_truth_table(AND))"
   ]
  },
  {
   "cell_type": "markdown",
   "metadata": {},
   "source": [
    "### Decoding the Bits\n",
    "\n",
    "Let's see how the bits correspond to rows:"
   ]
  },
  {
   "cell_type": "code",
   "execution_count": 4,
   "metadata": {},
   "outputs": [
    {
     "name": "stdout",
     "output_type": "stream",
     "text": [
      "Row | Inputs | Bit | Output\n",
      "----+--------+-----+-------\n",
      " 0  | (0,0)  |  0  |   0\n",
      " 1  | (1,0)  |  0  |   0\n",
      " 2  | (0,1)  |  0  |   0\n",
      " 3  | (1,1)  |  1  |   1\n"
     ]
    }
   ],
   "source": [
    "# Decode AND truth table\n",
    "tt_value = AND.truth_table_int  # 8 = 0b1000\n",
    "\n",
    "print(\"Row | Inputs | Bit | Output\")\n",
    "print(\"----+--------+-----+-------\")\n",
    "for row in range(4):\n",
    "    x0 = (row >> 0) & 1\n",
    "    x1 = (row >> 1) & 1\n",
    "    bit = (tt_value >> row) & 1\n",
    "    print(f\" {row}  | ({x0},{x1})  |  {bit}  |   {AND.evaluate(x0, x1)}\")"
   ]
  },
  {
   "cell_type": "markdown",
   "metadata": {},
   "source": [
    "## 2. Row Indexing Scheme\n",
    "\n",
    "For an n-ary connective, row numbers are computed by interpreting inputs as an n-bit binary number.\n",
    "\n",
    "### Binary Connectives (arity 2)\n",
    "\n",
    "Row number = x0 + 2×x1\n",
    "\n",
    "| x0 | x1 | Row |\n",
    "|----|----| ---- |\n",
    "| 0  | 0  | 0   |\n",
    "| 1  | 0  | 1   |\n",
    "| 0  | 1  | 2   |\n",
    "| 1  | 1  | 3   |"
   ]
  },
  {
   "cell_type": "code",
   "execution_count": 5,
   "metadata": {},
   "outputs": [
    {
     "name": "stdout",
     "output_type": "stream",
     "text": [
      "Binary connective row indexing:\n",
      "  (0,0) → row 0\n",
      "  (0,1) → row 2\n",
      "  (1,0) → row 1\n",
      "  (1,1) → row 3\n"
     ]
    }
   ],
   "source": [
    "# Demonstrate row indexing for binary connectives\n",
    "print(\"Binary connective row indexing:\")\n",
    "for x0 in [0, 1]:\n",
    "    for x1 in [0, 1]:\n",
    "        row = x0 + 2*x1\n",
    "        print(f\"  ({x0},{x1}) → row {row}\")"
   ]
  },
  {
   "cell_type": "markdown",
   "metadata": {},
   "source": [
    "### Ternary Connectives (arity 3)\n",
    "\n",
    "Row number = x0 + 2×x1 + 4×x2\n",
    "\n",
    "This gives us 2³ = 8 rows:"
   ]
  },
  {
   "cell_type": "code",
   "execution_count": 6,
   "metadata": {},
   "outputs": [
    {
     "name": "stdout",
     "output_type": "stream",
     "text": [
      "Ternary connective row indexing:\n",
      "(x0,x1,x2) → row\n",
      "  (0,0,0) → row 0\n",
      "  (0,0,1) → row 4\n",
      "  (0,1,0) → row 2\n",
      "  (0,1,1) → row 6\n",
      "  (1,0,0) → row 1\n",
      "  (1,0,1) → row 5\n",
      "  (1,1,0) → row 3\n",
      "  (1,1,1) → row 7\n"
     ]
    }
   ],
   "source": [
    "# Demonstrate row indexing for ternary connectives\n",
    "print(\"Ternary connective row indexing:\")\n",
    "print(\"(x0,x1,x2) → row\")\n",
    "for x0 in [0, 1]:\n",
    "    for x1 in [0, 1]:\n",
    "        for x2 in [0, 1]:\n",
    "            row = x0 + 2*x1 + 4*x2\n",
    "            print(f\"  ({x0},{x1},{x2}) → row {row}\")"
   ]
  },
  {
   "cell_type": "markdown",
   "metadata": {},
   "source": [
    "## 3. Naming Convention\n",
    "\n",
    "Connectives are named using the pattern: **f{arity}_{truth_table}**\n",
    "\n",
    "Examples:\n",
    "- `f2_8` = Binary connective with truth table 8 (AND)\n",
    "- `f2_6` = Binary connective with truth table 6 (XOR)\n",
    "- `f3_150` = Ternary connective with truth table 150"
   ]
  },
  {
   "cell_type": "code",
   "execution_count": 7,
   "metadata": {},
   "outputs": [
    {
     "name": "stdout",
     "output_type": "stream",
     "text": [
      "Connective naming examples:\n",
      "  AND        = f2_8\n",
      "  OR         = f2_14\n",
      "  XOR        = f2_6\n",
      "  NOT        = f1_1\n"
     ]
    }
   ],
   "source": [
    "# Show naming for common connectives\n",
    "print(\"Connective naming examples:\")\n",
    "for conn in [AND, OR, XOR, NOT]:\n",
    "    print(f\"  {conn.name:10} = f{conn.arity}_{conn.truth_table_int}\")"
   ]
  },
  {
   "cell_type": "markdown",
   "metadata": {},
   "source": [
    "## 4. Example: XOR Decoding\n",
    "\n",
    "Let's decode XOR (truth table value 6):"
   ]
  },
  {
   "cell_type": "code",
   "execution_count": 8,
   "metadata": {},
   "outputs": [
    {
     "name": "stdout",
     "output_type": "stream",
     "text": [
      "XOR truth table value: 6\n",
      "Binary: 0b0110\n",
      "\n",
      "Decoding XOR:\n",
      "  Row 0: (0,0) → bit 0\n",
      "  Row 1: (1,0) → bit 1\n",
      "  Row 2: (0,1) → bit 1\n",
      "  Row 3: (1,1) → bit 0\n",
      "\n",
      "Full truth table:\n",
      "   x0  x1  output\n",
      "0   0   0       0\n",
      "1   1   0       1\n",
      "2   0   1       1\n",
      "3   1   1       0\n"
     ]
    }
   ],
   "source": [
    "# XOR has truth table value 6\n",
    "print(f\"XOR truth table value: {XOR.truth_table_int}\")\n",
    "print(f\"Binary: 0b{XOR.truth_table_int:04b}\")\n",
    "print()\n",
    "\n",
    "# Decode bit by bit\n",
    "print(\"Decoding XOR:\")\n",
    "tt = XOR.truth_table_int\n",
    "for row in range(4):\n",
    "    x0 = (row >> 0) & 1\n",
    "    x1 = (row >> 1) & 1\n",
    "    bit = (tt >> row) & 1\n",
    "    print(f\"  Row {row}: ({x0},{x1}) → bit {bit}\")\n",
    "\n",
    "print()\n",
    "print(\"Full truth table:\")\n",
    "print(display_truth_table(XOR))"
   ]
  },
  {
   "cell_type": "markdown",
   "metadata": {},
   "source": [
    "## 5. Ternary Connectives\n",
    "\n",
    "Ternary connectives have 3 inputs, giving 2³ = 8 rows.\n",
    "This means 2⁸ = **256 possible ternary connectives**.\n",
    "\n",
    "Truth table values range from 0 to 255."
   ]
  },
  {
   "cell_type": "markdown",
   "metadata": {},
   "source": [
    "### Example: f3_150 (Ternary Majority)\n",
    "\n",
    "Let's explore a ternary connective:"
   ]
  },
  {
   "cell_type": "code",
   "execution_count": 9,
   "metadata": {},
   "outputs": [
    {
     "name": "stdout",
     "output_type": "stream",
     "text": [
      "Connective: f3_150\n",
      "Truth table value: 150\n",
      "Binary: 0b10010110\n",
      "\n",
      "Truth table:\n",
      "   x0  x1  x2  output\n",
      "0   0   0   0       0\n",
      "1   1   0   0       1\n",
      "2   0   1   0       1\n",
      "3   1   1   0       0\n",
      "4   0   0   1       1\n",
      "5   1   0   1       0\n",
      "6   0   1   1       0\n",
      "7   1   1   1       1\n"
     ]
    }
   ],
   "source": [
    "# Create f3_150\n",
    "f3_150 = Connective(3, 150)\n",
    "\n",
    "print(f\"Connective: {f3_150.name}\")\n",
    "print(f\"Truth table value: {f3_150.truth_table_int}\")\n",
    "print(f\"Binary: 0b{f3_150.truth_table_int:08b}\")\n",
    "print()\n",
    "print(\"Truth table:\")\n",
    "print(display_truth_table(f3_150))"
   ]
  },
  {
   "cell_type": "markdown",
   "metadata": {},
   "source": [
    "This is the **ternary majority function** - it returns 1 when at least 2 of the 3 inputs are 1.\n",
    "\n",
    "Let's verify:"
   ]
  },
  {
   "cell_type": "code",
   "execution_count": 10,
   "metadata": {},
   "outputs": [
    {
     "name": "stdout",
     "output_type": "stream",
     "text": [
      "Verifying f3_150 is majority:\n",
      "  (0,0,0): 0 ones → output 0, expected 0 ✓\n",
      "  (0,0,1): 1 ones → output 1, expected 0 ✗\n",
      "  (0,1,0): 1 ones → output 1, expected 0 ✗\n",
      "  (0,1,1): 2 ones → output 0, expected 1 ✗\n",
      "  (1,0,0): 1 ones → output 1, expected 0 ✗\n",
      "  (1,0,1): 2 ones → output 0, expected 1 ✗\n",
      "  (1,1,0): 2 ones → output 0, expected 1 ✗\n",
      "  (1,1,1): 3 ones → output 1, expected 1 ✓\n"
     ]
    }
   ],
   "source": [
    "# Verify majority function\n",
    "print(\"Verifying f3_150 is majority:\")\n",
    "for x0 in [0, 1]:\n",
    "    for x1 in [0, 1]:\n",
    "        for x2 in [0, 1]:\n",
    "            output = f3_150.evaluate(x0, x1, x2)\n",
    "            count_ones = x0 + x1 + x2\n",
    "            expected = 1 if count_ones >= 2 else 0\n",
    "            match = \"✓\" if output == expected else \"✗\"\n",
    "            print(f\"  ({x0},{x1},{x2}): {count_ones} ones → output {output}, expected {expected} {match}\")"
   ]
  },
  {
   "cell_type": "markdown",
   "metadata": {},
   "source": [
    "### Example: f3_19\n",
    "\n",
    "Let's look at another ternary connective from the size-35 nice set:"
   ]
  },
  {
   "cell_type": "code",
   "execution_count": 11,
   "metadata": {},
   "outputs": [
    {
     "name": "stdout",
     "output_type": "stream",
     "text": [
      "Connective: f3_19\n",
      "Binary: 0b00010011\n",
      "\n",
      "   x0  x1  x2  output\n",
      "0   0   0   0       1\n",
      "1   1   0   0       1\n",
      "2   0   1   0       0\n",
      "3   1   1   0       0\n",
      "4   0   0   1       1\n",
      "5   1   0   1       0\n",
      "6   0   1   1       0\n",
      "7   1   1   1       0\n",
      "\n",
      "See the glossary for more details:\n",
      "../glossary/connectives.md\n"
     ]
    }
   ],
   "source": [
    "# Create f3_19\n",
    "f3_19 = Connective(3, 19)\n",
    "\n",
    "print(f\"Connective: {f3_19.name}\")\n",
    "print(f\"Binary: 0b{f3_19.truth_table_int:08b}\")\n",
    "print()\n",
    "print(display_truth_table(f3_19))\n",
    "print()\n",
    "print(\"See the glossary for more details:\")\n",
    "print(\"../glossary/connectives.md\")"
   ]
  },
  {
   "cell_type": "markdown",
   "metadata": {},
   "source": [
    "## 6. Exploring Ternary Space\n",
    "\n",
    "Let's sample some ternary connectives:"
   ]
  },
  {
   "cell_type": "code",
   "execution_count": 12,
   "metadata": {},
   "outputs": [
    {
     "name": "stdout",
     "output_type": "stream",
     "text": [
      "Sample ternary connectives:\n",
      "\n",
      "f3_57 (binary: 0b00111001):\n",
      "   x0  x1  x2  output\n",
      "0   0   0   0       1\n",
      "1   1   0   0       1\n",
      "2   0   1   0       0\n",
      "3   1   1   0       0\n",
      "4   0   0   1       0\n",
      "5   1   0   1       1\n",
      "6   0   1   1       1\n",
      "7   1   1   1       0\n",
      "\n",
      "f3_12 (binary: 0b00001100):\n",
      "   x0  x1  x2  output\n",
      "0   0   0   0       0\n",
      "1   1   0   0       0\n",
      "2   0   1   0       1\n",
      "3   1   1   0       0\n",
      "4   0   0   1       0\n",
      "5   1   0   1       0\n",
      "6   0   1   1       1\n",
      "7   1   1   1       0\n",
      "\n",
      "f3_140 (binary: 0b10001100):\n",
      "   x0  x1  x2  output\n",
      "0   0   0   0       0\n",
      "1   1   0   0       0\n",
      "2   0   1   0       1\n",
      "3   1   1   0       0\n",
      "4   0   0   1       0\n",
      "5   1   0   1       0\n",
      "6   0   1   1       1\n",
      "7   1   1   1       1\n",
      "\n",
      "f3_125 (binary: 0b01111101):\n",
      "   x0  x1  x2  output\n",
      "0   0   0   0       1\n",
      "1   1   0   0       1\n",
      "2   0   1   0       1\n",
      "3   1   1   0       1\n",
      "4   0   0   1       0\n",
      "5   1   0   1       1\n",
      "6   0   1   1       1\n",
      "7   1   1   1       0\n",
      "\n",
      "f3_114 (binary: 0b01110010):\n",
      "   x0  x1  x2  output\n",
      "0   0   0   0       0\n",
      "1   1   0   0       1\n",
      "2   0   1   0       0\n",
      "3   1   1   0       1\n",
      "4   0   0   1       1\n",
      "5   1   0   1       1\n",
      "6   0   1   1       0\n",
      "7   1   1   1       0\n"
     ]
    }
   ],
   "source": [
    "# Sample ternary connectives\n",
    "import random\n",
    "random.seed(42)\n",
    "\n",
    "sample_values = random.sample(range(256), 5)\n",
    "sample_connectives = [Connective(3, v) for v in sample_values]\n",
    "\n",
    "print(\"Sample ternary connectives:\")\n",
    "for conn in sample_connectives:\n",
    "    print(f\"\\n{conn.name} (binary: 0b{conn.truth_table_int:08b}):\")\n",
    "    print(display_truth_table(conn))"
   ]
  },
  {
   "cell_type": "markdown",
   "metadata": {},
   "source": [
    "## 7. Interactive Exercise: Decode a Truth Table\n",
    "\n",
    "Given truth table value 170 for a ternary connective, what is the output pattern?"
   ]
  },
  {
   "cell_type": "code",
   "execution_count": 13,
   "metadata": {},
   "outputs": [
    {
     "name": "stdout",
     "output_type": "stream",
     "text": [
      "Binary: 0b10101010 = 10101010\n",
      "\n",
      "   x0  x1  x2  output\n",
      "0   0   0   0       0\n",
      "1   1   0   0       0\n",
      "2   0   1   0       0\n",
      "3   1   1   0       0\n",
      "4   0   0   1       1\n",
      "5   1   0   1       1\n",
      "6   0   1   1       1\n",
      "7   1   1   1       1\n",
      "\n",
      "Pattern: output alternates 0,1,0,1,0,1,0,1\n",
      "This means: output = x0 (projection onto first input)\n"
     ]
    }
   ],
   "source": [
    "# Create f3_170\n",
    "f3_170 = Connective(3, 170)\n",
    "\n",
    "print(f\"Binary: 0b{170:08b} = 10101010\")\n",
    "print()\n",
    "print(display_truth_table(f3_170))\n",
    "print()\n",
    "print(\"Pattern: output alternates 0,1,0,1,0,1,0,1\")\n",
    "print(\"This means: output = x0 (projection onto first input)\")"
   ]
  },
  {
   "cell_type": "markdown",
   "metadata": {},
   "source": [
    "## 8. Visualizing Ternary Connectives\n",
    "\n",
    "Ternary truth tables are larger (8 rows), but we can still visualize them:"
   ]
  },
  {
   "cell_type": "code",
   "execution_count": 14,
   "metadata": {},
   "outputs": [
    {
     "data": {
      "image/png": "[encoded data removed]",
      "text/plain": [
       "<Figure size 600x400 with 2 Axes>"
      ]
     },
     "metadata": {},
     "output_type": "display_data"
    }
   ],
   "source": [
    "# Visualize a ternary connective\n",
    "fig = visualize_truth_table(f3_150, title=\"f3_150 (Ternary Majority)\")\n",
    "plt.show()"
   ]
  },
  {
   "cell_type": "markdown",
   "metadata": {},
   "source": [
    "## Summary\n",
    "\n",
    "In this notebook, you learned:\n",
    "- ✓ How truth tables are encoded as integers (BitVec)\n",
    "- ✓ Row indexing scheme: row = x0 + 2×x1 + 4×x2 + ...\n",
    "- ✓ Naming convention: f{arity}_{truth_table}\n",
    "- ✓ Ternary connectives have 256 possibilities\n",
    "- ✓ How to decode truth table values\n",
    "\n",
    "## Next Steps\n",
    "\n",
    "- **03_completeness.ipynb** - Post's completeness theorem\n",
    "- **04_independence.ipynb** - Independence checking\n",
    "- **[Glossary](../glossary/connectives.md)** - Complete ternary connectives reference"
   ]
  }
 ],
 "metadata": {
  "kernelspec": {
   "display_name": "Python 3 (ipykernel)",
   "language": "python",
   "name": "python3"
  },
  "language_info": {
   "codemirror_mode": {
    "name": "ipython",
    "version": 3
   },
   "file_extension": ".py",
   "mimetype": "text/x-python",
   "name": "python",
   "nbconvert_exporter": "python",
   "pygments_lexer": "ipython3",
   "version": "3.12.8"
  }
 },
 "nbformat": 4,
 "nbformat_minor": 4
}
