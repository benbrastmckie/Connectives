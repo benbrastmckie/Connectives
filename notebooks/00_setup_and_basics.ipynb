{
 "cells": [
  {
   "cell_type": "markdown",
   "metadata": {},
   "source": [
    "# Setup and Basics\n",
    "\n",
    "Welcome to the Nice Connectives project! This notebook will help you verify your installation and introduce you to working with logical connectives interactively.\n",
    "\n",
    "## Learning Objectives\n",
    "\n",
    "By the end of this notebook, you will:\n",
    "- Verify that all dependencies are installed correctly\n",
    "- Understand how to import and use the Nice Connectives library\n",
    "- Create your first connective and display its truth table\n",
    "- Use visualization tools to explore connective behavior\n",
    "\n",
    "## Prerequisites\n",
    "\n",
    "Make sure you have installed the Jupyter dependencies:\n",
    "```bash\n",
    "pip install -e \".[jupyter]\"\n",
    "```"
   ]
  },
  {
   "cell_type": "markdown",
   "metadata": {},
   "source": [
    "## 1. Installation Check\n",
    "\n",
    "Let's verify that all required packages are installed:"
   ]
  },
  {
   "cell_type": "markdown",
   "metadata": {},
   "source": [
    "## 0. Python Path Setup\n",
    "\n",
    "First, let's ensure Python can find the project modules:"
   ]
  },
  {
   "cell_type": "code",
   "execution_count": 1,
   "metadata": {},
   "outputs": [
    {
     "name": "stdout",
     "output_type": "stream",
     "text": [
      "✓ Project root added to path: /home/benjamin/Documents/Philosophy/Projects/Z3/nice_connectives\n"
     ]
    }
   ],
   "source": [
    "# Setup Python path to find the src module\n",
    "import sys\n",
    "from pathlib import Path\n",
    "\n",
    "# Add project root to Python path\n",
    "project_root = Path.cwd().parent\n",
    "if str(project_root) not in sys.path:\n",
    "    sys.path.insert(0, str(project_root))\n",
    "\n",
    "print(f\"✓ Project root added to path: {project_root}\")"
   ]
  },
  {
   "cell_type": "code",
   "execution_count": 2,
   "metadata": {},
   "outputs": [
    {
     "name": "stdout",
     "output_type": "stream",
     "text": [
      "✓ All dependencies installed successfully!\n",
      "  - Jupyter: installed\n",
      "  - Matplotlib: 3.9.2\n",
      "  - Pandas: 2.2.3\n",
      "  - Z3: 4.8.17\n"
     ]
    }
   ],
   "source": [
    "# Check imports\n",
    "try:\n",
    "    import jupyter\n",
    "    import ipykernel\n",
    "    import matplotlib\n",
    "    import pandas\n",
    "    import z3\n",
    "    print(\"✓ All dependencies installed successfully!\")\n",
    "    print(f\"  - Jupyter: {jupyter.__version__ if hasattr(jupyter, '__version__') else 'installed'}\")\n",
    "    print(f\"  - Matplotlib: {matplotlib.__version__}\")\n",
    "    print(f\"  - Pandas: {pandas.__version__}\")\n",
    "    print(f\"  - Z3: {z3.get_version_string()}\")\n",
    "except ImportError as e:\n",
    "    print(f\"✗ Missing dependency: {e}\")\n",
    "    print(\"\\nPlease install with: pip install -e \\\".[jupyter]\\\"\")"
   ]
  },
  {
   "cell_type": "markdown",
   "metadata": {},
   "source": [
    "## 2. Import Core Modules\n",
    "\n",
    "Now let's import the Nice Connectives library and helper utilities:"
   ]
  },
  {
   "cell_type": "code",
   "execution_count": 3,
   "metadata": {},
   "outputs": [
    {
     "name": "stdout",
     "output_type": "stream",
     "text": [
      "✓ Imports successful!\n"
     ]
    }
   ],
   "source": [
    "# Import core modules\n",
    "from src.connectives import Connective\n",
    "from src.constants import AND, OR, XOR, NOT, TRUE, FALSE, NAND\n",
    "\n",
    "# Import notebook utilities\n",
    "from notebooks.utils import (\n",
    "    display_truth_table,\n",
    "    visualize_truth_table,\n",
    "    compare_connectives,\n",
    "    get_common_connectives\n",
    ")\n",
    "\n",
    "# Configure matplotlib for inline display\n",
    "import matplotlib.pyplot as plt\n",
    "%matplotlib inline\n",
    "\n",
    "print(\"✓ Imports successful!\")"
   ]
  },
  {
   "cell_type": "markdown",
   "metadata": {},
   "source": [
    "## 3. Your First Connective: AND\n",
    "\n",
    "Let's explore the AND connective. The AND operation returns true (1) only when both inputs are true."
   ]
  },
  {
   "cell_type": "code",
   "execution_count": 4,
   "metadata": {},
   "outputs": [
    {
     "name": "stdout",
     "output_type": "stream",
     "text": [
      "Connective: AND\n",
      "Arity: 2\n",
      "Truth table value: 8\n",
      "\n"
     ]
    }
   ],
   "source": [
    "# Display AND connective\n",
    "print(f\"Connective: {AND.name}\")\n",
    "print(f\"Arity: {AND.arity}\")\n",
    "print(f\"Truth table value: {AND.truth_table_int}\")\n",
    "print()"
   ]
  },
  {
   "cell_type": "markdown",
   "metadata": {},
   "source": [
    "### Truth Table Display\n",
    "\n",
    "Let's see the truth table as a formatted table:"
   ]
  },
  {
   "cell_type": "code",
   "execution_count": 5,
   "metadata": {},
   "outputs": [
    {
     "name": "stdout",
     "output_type": "stream",
     "text": [
      "AND Truth Table:\n",
      "   x0  x1  output\n",
      "0   0   0       0\n",
      "1   1   0       0\n",
      "2   0   1       0\n",
      "3   1   1       1\n"
     ]
    }
   ],
   "source": [
    "# Display truth table\n",
    "df_and = display_truth_table(AND)\n",
    "print(\"AND Truth Table:\")\n",
    "print(df_and)"
   ]
  },
  {
   "cell_type": "markdown",
   "metadata": {},
   "source": [
    "### Interactive Evaluation\n",
    "\n",
    "You can evaluate the AND connective with specific inputs:"
   ]
  },
  {
   "cell_type": "code",
   "execution_count": 6,
   "metadata": {},
   "outputs": [
    {
     "name": "stdout",
     "output_type": "stream",
     "text": [
      "Testing AND connective:\n",
      "AND(0, 0) = 0\n",
      "AND(0, 1) = 0\n",
      "AND(1, 0) = 0\n",
      "AND(1, 1) = 1\n"
     ]
    }
   ],
   "source": [
    "# Test individual inputs\n",
    "print(\"Testing AND connective:\")\n",
    "print(f\"AND(0, 0) = {AND.evaluate(0, 0)}\")\n",
    "print(f\"AND(0, 1) = {AND.evaluate(0, 1)}\")\n",
    "print(f\"AND(1, 0) = {AND.evaluate(1, 0)}\")\n",
    "print(f\"AND(1, 1) = {AND.evaluate(1, 1)}\")"
   ]
  },
  {
   "cell_type": "markdown",
   "metadata": {},
   "source": [
    "### Visualization\n",
    "\n",
    "Now let's create a visual representation:"
   ]
  },
  {
   "cell_type": "code",
   "execution_count": 7,
   "metadata": {},
   "outputs": [
    {
     "data": {
      "image/png": "[encoded data removed]",
      "text/plain": [
       "<Figure size 600x400 with 2 Axes>"
      ]
     },
     "metadata": {},
     "output_type": "display_data"
    }
   ],
   "source": [
    "# Visualize AND connective\n",
    "fig = visualize_truth_table(AND)\n",
    "plt.show()"
   ]
  },
  {
   "cell_type": "markdown",
   "metadata": {},
   "source": [
    "## 4. Comparing Multiple Connectives\n",
    "\n",
    "Let's compare AND, OR, and XOR side by side:"
   ]
  },
  {
   "cell_type": "code",
   "execution_count": 8,
   "metadata": {},
   "outputs": [
    {
     "data": {
      "image/png": "[encoded data removed]",
      "text/plain": [
       "<Figure size 1500x400 with 3 Axes>"
      ]
     },
     "metadata": {},
     "output_type": "display_data"
    }
   ],
   "source": [
    "# Compare three basic connectives\n",
    "fig = compare_connectives([AND, OR, XOR])\n",
    "plt.show()"
   ]
  },
  {
   "cell_type": "markdown",
   "metadata": {},
   "source": [
    "## 5. Working with Other Connectives\n",
    "\n",
    "The library provides many predefined connectives:"
   ]
  },
  {
   "cell_type": "code",
   "execution_count": 9,
   "metadata": {},
   "outputs": [
    {
     "name": "stdout",
     "output_type": "stream",
     "text": [
      "Available connectives:\n",
      "  FALSE    (arity 0)\n",
      "  TRUE     (arity 0)\n",
      "  NOT      (arity 1)\n",
      "  AND      (arity 2)\n",
      "  OR       (arity 2)\n",
      "  XOR      (arity 2)\n",
      "  NAND     (arity 2)\n",
      "  NOR      (arity 2)\n",
      "  IMP      (arity 2)\n",
      "  EQUIV    (arity 2)\n"
     ]
    }
   ],
   "source": [
    "# Get all common connectives\n",
    "common = get_common_connectives()\n",
    "print(\"Available connectives:\")\n",
    "for name, conn in common.items():\n",
    "    print(f\"  {name:8} (arity {conn.arity})\")"
   ]
  },
  {
   "cell_type": "markdown",
   "metadata": {},
   "source": [
    "### Exercise: Explore NOT\n",
    "\n",
    "NOT is a unary connective (arity 1). Try displaying its truth table:"
   ]
  },
  {
   "cell_type": "code",
   "execution_count": 10,
   "metadata": {},
   "outputs": [
    {
     "name": "stdout",
     "output_type": "stream",
     "text": [
      "NOT Truth Table:\n",
      "   x0  output\n",
      "0   0       1\n",
      "1   1       0\n",
      "\n",
      "NOT(0) = 1\n",
      "NOT(1) = 0\n"
     ]
    }
   ],
   "source": [
    "# Display NOT truth table\n",
    "print(\"NOT Truth Table:\")\n",
    "print(display_truth_table(NOT))\n",
    "print()\n",
    "\n",
    "# Test NOT\n",
    "print(f\"NOT(0) = {NOT.evaluate(0)}\")\n",
    "print(f\"NOT(1) = {NOT.evaluate(1)}\")"
   ]
  },
  {
   "cell_type": "markdown",
   "metadata": {},
   "source": [
    "### Exercise: Explore NAND\n",
    "\n",
    "NAND is \"NOT AND\" - it returns the opposite of AND:"
   ]
  },
  {
   "cell_type": "code",
   "execution_count": 11,
   "metadata": {},
   "outputs": [
    {
     "data": {
      "image/png": "[encoded data removed]",
      "text/plain": [
       "<Figure size 1500x400 with 2 Axes>"
      ]
     },
     "metadata": {},
     "output_type": "display_data"
    }
   ],
   "source": [
    "# Compare AND and NAND\n",
    "fig = compare_connectives([AND, NAND], titles=[\"AND\", \"NAND (NOT AND)\"])\n",
    "plt.show()"
   ]
  },
  {
   "cell_type": "markdown",
   "metadata": {},
   "source": [
    "## 6. Creating Custom Connectives\n",
    "\n",
    "You can create connectives from scratch by specifying their truth table:"
   ]
  },
  {
   "cell_type": "code",
   "execution_count": 12,
   "metadata": {},
   "outputs": [
    {
     "name": "stdout",
     "output_type": "stream",
     "text": [
      "Custom connective: XOR\n",
      "   x0  x1  output\n",
      "0   0   0       0\n",
      "1   1   0       1\n",
      "2   0   1       1\n",
      "3   1   1       0\n",
      "\n",
      "Matches XOR: True\n"
     ]
    }
   ],
   "source": [
    "# Create a custom binary connective\n",
    "# Truth table value 6 represents XOR (0110 in binary)\n",
    "custom_xor = Connective(arity=2, truth_table=6)\n",
    "\n",
    "print(f\"Custom connective: {custom_xor.name}\")\n",
    "print(display_truth_table(custom_xor))\n",
    "\n",
    "# Verify it matches XOR\n",
    "print(f\"\\nMatches XOR: {custom_xor.truth_table_int == XOR.truth_table_int}\")"
   ]
  },
  {
   "cell_type": "markdown",
   "metadata": {},
   "source": [
    "## Summary\n",
    "\n",
    "In this notebook, you learned:\n",
    "- ✓ How to verify your installation\n",
    "- ✓ How to import connectives and utility functions\n",
    "- ✓ How to display and visualize truth tables\n",
    "- ✓ How to compare multiple connectives\n",
    "- ✓ How to create custom connectives\n",
    "\n",
    "## Next Steps\n",
    "\n",
    "Continue to:\n",
    "- **01_connectives_intro.ipynb** - Deep dive into logical connectives\n",
    "- **02_truth_tables.ipynb** - Understanding BitVec encoding\n",
    "- **03_completeness.ipynb** - Post's completeness theorem\n",
    "- **04_independence.ipynb** - Independence checking\n",
    "\n",
    "## Additional Resources\n",
    "\n",
    "- [Project README](../README.md)\n",
    "- [Usage Guide](../docs/USAGE.md)\n",
    "- [Ternary Connectives Glossary](../glossary/connectives.md)"
   ]
  }
 ],
 "metadata": {
  "kernelspec": {
   "display_name": "Python 3 (ipykernel)",
   "language": "python",
   "name": "python3"
  },
  "language_info": {
   "codemirror_mode": {
    "name": "ipython",
    "version": 3
   },
   "file_extension": ".py",
   "mimetype": "text/x-python",
   "name": "python",
   "nbconvert_exporter": "python",
   "pygments_lexer": "ipython3",
   "version": "3.12.8"
  }
 },
 "nbformat": 4,
 "nbformat_minor": 4
}
