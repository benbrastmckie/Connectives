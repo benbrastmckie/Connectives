{
 "cells": [
  {
   "cell_type": "markdown",
   "metadata": {},
   "source": [
    "# Completeness and Post's Theorem\n",
    "\n",
    "This notebook explains completeness in logic and Post's Completeness Theorem, which provides an efficient way to check if a set of connectives is complete.\n",
    "\n",
    "## Learning Objectives\n",
    "\n",
    "By the end of this notebook, you will understand:\n",
    "- What completeness means in logic\n",
    "- The 5 Post classes (T₀, T₁, M, D, A)\n",
    "- Post's Completeness Theorem\n",
    "- How to check completeness programmatically\n",
    "- Famous complete sets like {NAND} and {AND, OR, NOT}"
   ]
  },
  {
   "cell_type": "code",
   "execution_count": 1,
   "metadata": {},
   "outputs": [
    {
     "name": "stdout",
     "output_type": "stream",
     "text": [
      "✓ Project root added to path: /home/benjamin/Documents/Philosophy/Projects/Z3/nice_connectives\n"
     ]
    }
   ],
   "source": [
    "# Setup Python path to find the src module\n",
    "import sys\n",
    "from pathlib import Path\n",
    "\n",
    "# Add project root to Python path\n",
    "project_root = Path.cwd().parent\n",
    "if str(project_root) not in sys.path:\n",
    "    sys.path.insert(0, str(project_root))\n",
    "\n",
    "print(f\"✓ Project root added to path: {project_root}\")"
   ]
  },
  {
   "cell_type": "markdown",
   "metadata": {},
   "source": [
    "## 0. Python Path Setup\n",
    "\n",
    "First, let's ensure Python can find the project modules:"
   ]
  },
  {
   "cell_type": "code",
   "execution_count": 2,
   "metadata": {},
   "outputs": [
    {
     "name": "stdout",
     "output_type": "stream",
     "text": [
      "✓ Setup complete\n"
     ]
    }
   ],
   "source": [
    "# Setup\n",
    "from src.connectives import Connective\n",
    "from src.constants import AND, OR, XOR, NOT, NAND, TRUE, FALSE\n",
    "from src.post_classes import is_complete, get_post_class_memberships\n",
    "from notebooks.utils import display_truth_table, compare_connectives\n",
    "\n",
    "import matplotlib.pyplot as plt\n",
    "%matplotlib inline\n",
    "\n",
    "print(\"✓ Setup complete\")"
   ]
  },
  {
   "cell_type": "markdown",
   "metadata": {},
   "source": [
    "## 1. What is Completeness?\n",
    "\n",
    "A set of connectives is **complete** if every possible logical connective can be **defined** (composed) using only the connectives in that set.\n",
    "\n",
    "### Example: {AND, OR, NOT}\n",
    "\n",
    "This is a famous complete set. For example:\n",
    "- **XOR** can be defined: `XOR(x,y) = OR(AND(x,NOT(y)), AND(NOT(x),y))`\n",
    "- **NAND** can be defined: `NAND(x,y) = NOT(AND(x,y))`\n",
    "\n",
    "In fact, *every* binary connective can be expressed using just AND, OR, and NOT."
   ]
  },
  {
   "cell_type": "markdown",
   "metadata": {},
   "source": [
    "## 2. The Problem with Direct Checking\n",
    "\n",
    "Checking completeness by trying all possible compositions would take **exponential time**.\n",
    "\n",
    "Fortunately, **Post's Completeness Theorem** provides an efficient O(n) check!"
   ]
  },
  {
   "cell_type": "markdown",
   "metadata": {},
   "source": [
    "## 3. Post's Five Classes\n",
    "\n",
    "Post identified 5 special classes of connectives:\n",
    "\n",
    "### T₀: Truth-Preserving\n",
    "All inputs 0 → output 0\n",
    "\n",
    "### T₁: Falsity-Preserving  \n",
    "All inputs 1 → output 1\n",
    "\n",
    "### M: Monotone\n",
    "More 1's in input → never decreases output\n",
    "\n",
    "### D: Dual\n",
    "Self-dual under negation of inputs and output\n",
    "\n",
    "### A: Affine\n",
    "Output is XOR of inputs (linear over GF(2))"
   ]
  },
  {
   "cell_type": "markdown",
   "metadata": {},
   "source": [
    "## 4. Post's Completeness Theorem\n",
    "\n",
    "**A set S is complete if and only if S escapes all 5 Post classes.**\n",
    "\n",
    "That is:\n",
    "- At least one connective NOT in T₀\n",
    "- At least one connective NOT in T₁\n",
    "- At least one connective NOT in M\n",
    "- At least one connective NOT in D\n",
    "- At least one connective NOT in A\n",
    "\n",
    "This reduces completeness checking from exponential to **O(n)** time!"
   ]
  },
  {
   "cell_type": "markdown",
   "metadata": {},
   "source": [
    "## 5. Checking Post Class Membership\n",
    "\n",
    "Let's check which Post classes some common connectives belong to:"
   ]
  },
  {
   "cell_type": "code",
   "execution_count": null,
   "metadata": {},
   "outputs": [],
   "source": "# Check Post class memberships\nconnectives = [AND, OR, XOR, NOT, NAND]\n\nprint(\"Post Class Memberships:\")\nprint(\"Connective | T₀  T₁  M   D   A\")\nprint(\"-----------+--------------------\")\n\nfor conn in connectives:\n    memberships = get_post_class_memberships(conn)\n    t0 = \"✓\" if 'T0' in memberships else \"✗\"\n    t1 = \"✓\" if 'T1' in memberships else \"✗\"\n    m = \"✓\" if 'M' in memberships else \"✗\"\n    d = \"✓\" if 'D' in memberships else \"✗\"\n    a = \"✓\" if 'A' in memberships else \"✗\"\n    print(f\"{conn.name:10} | {t0}   {t1}   {m}   {d}   {a}\")"
  },
  {
   "cell_type": "markdown",
   "metadata": {},
   "source": [
    "### Understanding the Results\n",
    "\n",
    "Let's examine why AND is in T₀:"
   ]
  },
  {
   "cell_type": "code",
   "execution_count": null,
   "metadata": {},
   "outputs": [],
   "source": [
    "# Check T₀ property for AND\n",
    "print(\"AND with all inputs 0:\")\n",
    "print(f\"AND(0,0) = {AND.evaluate(0,0)}\")\n",
    "print()\n",
    "print(\"AND is in T₀ because AND(0,0) = 0 (truth-preserving)\")\n",
    "print()\n",
    "print(\"Is AND in T₁?\")\n",
    "print(f\"AND(1,1) = {AND.evaluate(1,1)}\")\n",
    "print(\"Yes! AND is also in T₁.\")"
   ]
  },
  {
   "cell_type": "markdown",
   "metadata": {},
   "source": [
    "Why is NOT not in M (monotone)?"
   ]
  },
  {
   "cell_type": "code",
   "execution_count": null,
   "metadata": {},
   "outputs": [],
   "source": [
    "# Check monotonicity for NOT\n",
    "print(\"NOT violates monotonicity:\")\n",
    "print(f\"NOT(0) = {NOT.evaluate(0)}\")\n",
    "print(f\"NOT(1) = {NOT.evaluate(1)}\")\n",
    "print()\n",
    "print(\"As input increases (0→1), output decreases (1→0).\")\n",
    "print(\"Therefore NOT is NOT monotone.\")"
   ]
  },
  {
   "cell_type": "markdown",
   "metadata": {},
   "source": [
    "## 6. Checking Completeness: {AND, OR, NOT}\n",
    "\n",
    "Let's verify that {AND, OR, NOT} is complete:"
   ]
  },
  {
   "cell_type": "code",
   "execution_count": null,
   "metadata": {},
   "outputs": [],
   "source": "# Check completeness of {AND, OR, NOT}\nset1 = [AND, OR, NOT]\n\nresult = is_complete(set1)\nprint(f\"Is {{AND, OR, NOT}} complete? {result}\")\nprint()\n\n# Show why it's complete\nprint(\"Why it's complete:\")\nprint(\"  - AND is in T₀, but NOT escapes T₀\")\nprint(\"  - AND is in T₁, but NOT escapes T₁\")\nprint(\"  - AND, OR are monotone, but NOT escapes M\")\nprint(\"  - XOR is in A, but AND escapes A\")\nprint(\"  - AND is in D? Let's check...\")\nprint(f\"    AND in D: {'D' in get_post_class_memberships(AND)}\")\nprint(f\"    OR in D: {'D' in get_post_class_memberships(OR)}\")\nprint(\"  - One of them escapes D\")\nprint()\nprint(\"All 5 classes escaped → Complete!\")"
  },
  {
   "cell_type": "markdown",
   "metadata": {},
   "source": [
    "## 7. Famous Complete Set: {NAND}\n",
    "\n",
    "Remarkably, **NAND alone** is complete!"
   ]
  },
  {
   "cell_type": "code",
   "execution_count": null,
   "metadata": {},
   "outputs": [],
   "source": "# Check completeness of {NAND}\nset2 = [NAND]\n\nresult = is_complete(set2)\nprint(f\"Is {{NAND}} complete? {result}\")\nprint()\n\n# Show Post class memberships\nmemberships = get_post_class_memberships(NAND)\nprint(\"NAND Post class memberships:\")\nfor class_name in ['T0', 'T1', 'M', 'D', 'A']:\n    is_member = class_name in memberships\n    status = \"✓ IN\" if is_member else \"✗ ESCAPES\"\n    print(f\"  {class_name}: {status}\")\nprint()\nprint(\"NAND escapes all 5 classes → Complete!\")"
  },
  {
   "cell_type": "markdown",
   "metadata": {},
   "source": [
    "### Why NAND is Universal\n",
    "\n",
    "You can build any connective from NAND:"
   ]
  },
  {
   "cell_type": "code",
   "execution_count": null,
   "metadata": {},
   "outputs": [],
   "source": [
    "# Build NOT from NAND\n",
    "def NOT_from_NAND(x):\n",
    "    return NAND.evaluate(x, x)\n",
    "\n",
    "# Build AND from NAND\n",
    "def AND_from_NAND(x, y):\n",
    "    return NAND.evaluate(NAND.evaluate(x, y), NAND.evaluate(x, y))\n",
    "\n",
    "# Verify\n",
    "print(\"Building connectives from NAND:\")\n",
    "print()\n",
    "print(\"NOT from NAND:\")\n",
    "for x in [0, 1]:\n",
    "    result = NOT_from_NAND(x)\n",
    "    expected = NOT.evaluate(x)\n",
    "    print(f\"  NOT({x}) = {expected}, NAND({x},{x}) = {result} {'✓' if result == expected else '✗'}\")\n",
    "\n",
    "print()\n",
    "print(\"AND from NAND:\")\n",
    "for x in [0, 1]:\n",
    "    for y in [0, 1]:\n",
    "        result = AND_from_NAND(x, y)\n",
    "        expected = AND.evaluate(x, y)\n",
    "        print(f\"  AND({x},{y}) = {expected}, built from NAND = {result} {'✓' if result == expected else '✗'}\")"
   ]
  },
  {
   "cell_type": "markdown",
   "metadata": {},
   "source": [
    "## 8. Incomplete Sets\n",
    "\n",
    "Let's see an incomplete set:"
   ]
  },
  {
   "cell_type": "code",
   "execution_count": null,
   "metadata": {},
   "outputs": [],
   "source": "# Check {AND, OR} without NOT\nset3 = [AND, OR]\n\nresult = is_complete(set3)\nprint(f\"Is {{AND, OR}} complete? {result}\")\nprint()\n\n# Both are monotone\nprint(\"Why it's incomplete:\")\nprint(f\"  AND in M: {'M' in get_post_class_memberships(AND)}\")\nprint(f\"  OR in M: {'M' in get_post_class_memberships(OR)}\")\nprint()\nprint(\"Both are monotone → cannot escape M → incomplete!\")\nprint(\"This means: cannot define NOT or any non-monotone connective.\")"
  },
  {
   "cell_type": "markdown",
   "metadata": {},
   "source": [
    "## 9. Interactive Exercise\n",
    "\n",
    "Is {XOR, AND} complete?"
   ]
  },
  {
   "cell_type": "code",
   "execution_count": null,
   "metadata": {},
   "outputs": [],
   "source": "# Check {XOR, AND}\nset4 = [XOR, AND]\n\nresult = is_complete(set4)\nprint(f\"Is {{XOR, AND}} complete? {result}\")\nprint()\n\n# Analyze\nprint(\"Post class memberships:\")\nfor conn in set4:\n    memberships = get_post_class_memberships(conn)\n    print(f\"\\n{conn.name}:\")\n    for class_name in ['T0', 'T1', 'M', 'D', 'A']:\n        is_member = class_name in memberships\n        status = \"IN\" if is_member else \"escapes\"\n        print(f\"  {class_name}: {status}\")"
  },
  {
   "cell_type": "markdown",
   "metadata": {},
   "source": [
    "## 10. Building Complete Sets\n",
    "\n",
    "To build a complete set, you need connectives that collectively escape all 5 classes.\n",
    "\n",
    "Let's try {XOR, AND, TRUE}:"
   ]
  },
  {
   "cell_type": "code",
   "execution_count": null,
   "metadata": {},
   "outputs": [],
   "source": [
    "# Check {XOR, AND, TRUE}\n",
    "set5 = [XOR, AND, TRUE]\n",
    "\n",
    "result = is_complete(set5)\n",
    "print(f\"Is {{XOR, AND, TRUE}} complete? {result}\")\n",
    "print()\n",
    "\n",
    "if result:\n",
    "    print(\"Yes! This is a nice set of size 3.\")\n",
    "    print(\"(assuming it's also independent - see next notebook)\")\n",
    "else:\n",
    "    print(\"Not complete. Need different connectives.\")"
   ]
  },
  {
   "cell_type": "markdown",
   "metadata": {},
   "source": [
    "## Summary\n",
    "\n",
    "In this notebook, you learned:\n",
    "- ✓ What completeness means\n",
    "- ✓ The 5 Post classes (T₀, T₁, M, D, A)\n",
    "- ✓ Post's Completeness Theorem\n",
    "- ✓ How to check completeness in O(n) time\n",
    "- ✓ Famous complete sets: {NAND}, {AND, OR, NOT}\n",
    "\n",
    "## Key Insight\n",
    "\n",
    "**Completeness is necessary but not sufficient for a \"nice\" set.**\n",
    "\n",
    "A nice set must also be **independent** - no connective is definable from the others.\n",
    "\n",
    "## Next Steps\n",
    "\n",
    "- **04_independence.ipynb** - Learn about independence checking"
   ]
  }
 ],
 "metadata": {
  "kernelspec": {
   "display_name": "Python 3 (ipykernel)",
   "language": "python",
   "name": "python3"
  },
  "language_info": {
   "codemirror_mode": {
    "name": "ipython",
    "version": 3
   },
   "file_extension": ".py",
   "mimetype": "text/x-python",
   "name": "python",
   "nbconvert_exporter": "python",
   "pygments_lexer": "ipython3",
   "version": "3.12.8"
  }
 },
 "nbformat": 4,
 "nbformat_minor": 4
}