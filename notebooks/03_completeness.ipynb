{
 "cells": [
  {
   "cell_type": "markdown",
   "metadata": {},
   "source": [
    "# Completeness and Post's Theorem\n",
    "\n",
    "This notebook explains completeness in logic and Post's Completeness Theorem, which provides an efficient way to check if a set of connectives is complete.\n",
    "\n",
    "## Learning Objectives\n",
    "\n",
    "By the end of this notebook, you will understand:\n",
    "- What completeness means in logic\n",
    "- The 5 Post classes (T₀, T₁, M, D, A)\n",
    "- Post's Completeness Theorem\n",
    "- How to check completeness programmatically\n",
    "- Famous complete sets like {NAND} and {AND, OR, NOT}"
   ]
  },
  {
   "cell_type": "code",
   "execution_count": 1,
   "metadata": {},
   "outputs": [
    {
     "name": "stdout",
     "output_type": "stream",
     "text": [
      "✓ Project root added to path: /home/benjamin/Documents/Philosophy/Projects/Z3/nice_connectives\n"
     ]
    }
   ],
   "source": [
    "# Setup Python path to find the src module\n",
    "import sys\n",
    "from pathlib import Path\n",
    "\n",
    "# Add project root to Python path\n",
    "project_root = Path.cwd().parent\n",
    "if str(project_root) not in sys.path:\n",
    "    sys.path.insert(0, str(project_root))\n",
    "\n",
    "print(f\"✓ Project root added to path: {project_root}\")"
   ]
  },
  {
   "cell_type": "markdown",
   "metadata": {},
   "source": [
    "## 0. Python Path Setup\n",
    "\n",
    "First, let's ensure Python can find the project modules:"
   ]
  },
  {
   "cell_type": "code",
   "execution_count": 2,
   "metadata": {},
   "outputs": [
    {
     "name": "stdout",
     "output_type": "stream",
     "text": [
      "✓ Setup complete\n"
     ]
    }
   ],
   "source": [
    "# Setup\n",
    "from src.connectives import Connective\n",
    "from src.constants import AND, OR, XOR, NOT, NAND, TRUE, FALSE\n",
    "from src.post_classes import is_complete, get_post_class_memberships\n",
    "from notebooks.utils import display_truth_table, compare_connectives\n",
    "\n",
    "import matplotlib.pyplot as plt\n",
    "%matplotlib inline\n",
    "\n",
    "print(\"✓ Setup complete\")"
   ]
  },
  {
   "cell_type": "markdown",
   "metadata": {},
   "source": [
    "## 1. What is Completeness?\n",
    "\n",
    "A set of connectives is **complete** if every possible logical connective can be **defined** (composed) using only the connectives in that set.\n",
    "\n",
    "### Example: {AND, OR, NOT}\n",
    "\n",
    "This is a famous complete set. For example:\n",
    "- **XOR** can be defined: `XOR(x,y) = OR(AND(x,NOT(y)), AND(NOT(x),y))`\n",
    "- **NAND** can be defined: `NAND(x,y) = NOT(AND(x,y))`\n",
    "\n",
    "In fact, *every* binary connective can be expressed using just AND, OR, and NOT."
   ]
  },
  {
   "cell_type": "markdown",
   "metadata": {},
   "source": [
    "## 2. The Problem with Direct Checking\n",
    "\n",
    "Checking completeness by trying all possible compositions would take **exponential time**.\n",
    "\n",
    "Fortunately, **Post's Completeness Theorem** provides an efficient O(n) check!"
   ]
  },
  {
   "cell_type": "markdown",
   "metadata": {},
   "source": [
    "## 3. Post's Five Classes\n",
    "\n",
    "Post identified 5 special classes of connectives:\n",
    "\n",
    "### T₀: Truth-Preserving\n",
    "All inputs 0 → output 0\n",
    "\n",
    "### T₁: Falsity-Preserving  \n",
    "All inputs 1 → output 1\n",
    "\n",
    "### M: Monotone\n",
    "More 1's in input → never decreases output\n",
    "\n",
    "### D: Dual\n",
    "Self-dual under negation of inputs and output\n",
    "\n",
    "### A: Affine\n",
    "Output is XOR of inputs (linear over GF(2))"
   ]
  },
  {
   "cell_type": "markdown",
   "metadata": {},
   "source": [
    "## 4. Post's Completeness Theorem\n",
    "\n",
    "**A set S is complete if and only if S escapes all 5 Post classes.**\n",
    "\n",
    "That is:\n",
    "- At least one connective NOT in T₀\n",
    "- At least one connective NOT in T₁\n",
    "- At least one connective NOT in M\n",
    "- At least one connective NOT in D\n",
    "- At least one connective NOT in A\n",
    "\n",
    "This reduces completeness checking from exponential to **O(n)** time!"
   ]
  },
  {
   "cell_type": "markdown",
   "metadata": {},
   "source": [
    "## 5. Checking Post Class Membership\n",
    "\n",
    "Let's check which Post classes some common connectives belong to:"
   ]
  },
  {
   "cell_type": "code",
   "execution_count": 3,
   "metadata": {},
   "outputs": [
    {
     "name": "stdout",
     "output_type": "stream",
     "text": [
      "Post Class Memberships:\n",
      "Connective | T₀  T₁  M   D   A\n",
      "-----------+--------------------\n",
      "AND        | ✓   ✓   ✓   ✗   ✗\n",
      "OR         | ✓   ✓   ✓   ✗   ✗\n",
      "XOR        | ✓   ✗   ✗   ✗   ✓\n",
      "NOT        | ✗   ✗   ✗   ✓   ✓\n",
      "NAND       | ✗   ✗   ✗   ✗   ✗\n"
     ]
    }
   ],
   "source": [
    "# Check Post class memberships\n",
    "connectives = [AND, OR, XOR, NOT, NAND]\n",
    "\n",
    "print(\"Post Class Memberships:\")\n",
    "print(\"Connective | T₀  T₁  M   D   A\")\n",
    "print(\"-----------+--------------------\")\n",
    "\n",
    "for conn in connectives:\n",
    "    memberships = get_post_class_memberships(conn)\n",
    "    t0 = \"✓\" if 'T0' in memberships else \"✗\"\n",
    "    t1 = \"✓\" if 'T1' in memberships else \"✗\"\n",
    "    m = \"✓\" if 'M' in memberships else \"✗\"\n",
    "    d = \"✓\" if 'D' in memberships else \"✗\"\n",
    "    a = \"✓\" if 'A' in memberships else \"✗\"\n",
    "    print(f\"{conn.name:10} | {t0}   {t1}   {m}   {d}   {a}\")"
   ]
  },
  {
   "cell_type": "markdown",
   "metadata": {},
   "source": [
    "### Understanding the Results\n",
    "\n",
    "Let's examine why AND is in T₀:"
   ]
  },
  {
   "cell_type": "code",
   "execution_count": 4,
   "metadata": {},
   "outputs": [
    {
     "name": "stdout",
     "output_type": "stream",
     "text": [
      "AND with all inputs 0:\n",
      "AND(0,0) = 0\n",
      "\n",
      "AND is in T₀ because AND(0,0) = 0 (truth-preserving)\n",
      "\n",
      "Is AND in T₁?\n",
      "AND(1,1) = 1\n",
      "Yes! AND is also in T₁.\n"
     ]
    }
   ],
   "source": [
    "# Check T₀ property for AND\n",
    "print(\"AND with all inputs 0:\")\n",
    "print(f\"AND(0,0) = {AND.evaluate(0,0)}\")\n",
    "print()\n",
    "print(\"AND is in T₀ because AND(0,0) = 0 (truth-preserving)\")\n",
    "print()\n",
    "print(\"Is AND in T₁?\")\n",
    "print(f\"AND(1,1) = {AND.evaluate(1,1)}\")\n",
    "print(\"Yes! AND is also in T₁.\")"
   ]
  },
  {
   "cell_type": "markdown",
   "metadata": {},
   "source": [
    "Why is NOT not in M (monotone)?"
   ]
  },
  {
   "cell_type": "code",
   "execution_count": 5,
   "metadata": {},
   "outputs": [
    {
     "name": "stdout",
     "output_type": "stream",
     "text": [
      "NOT violates monotonicity:\n",
      "NOT(0) = 1\n",
      "NOT(1) = 0\n",
      "\n",
      "As input increases (0→1), output decreases (1→0).\n",
      "Therefore NOT is NOT monotone.\n"
     ]
    }
   ],
   "source": [
    "# Check monotonicity for NOT\n",
    "print(\"NOT violates monotonicity:\")\n",
    "print(f\"NOT(0) = {NOT.evaluate(0)}\")\n",
    "print(f\"NOT(1) = {NOT.evaluate(1)}\")\n",
    "print()\n",
    "print(\"As input increases (0→1), output decreases (1→0).\")\n",
    "print(\"Therefore NOT is NOT monotone.\")"
   ]
  },
  {
   "cell_type": "markdown",
   "metadata": {},
   "source": [
    "## 6. Checking Completeness: {AND, OR, NOT}\n",
    "\n",
    "Let's verify that {AND, OR, NOT} is complete:"
   ]
  },
  {
   "cell_type": "code",
   "execution_count": 6,
   "metadata": {},
   "outputs": [
    {
     "name": "stdout",
     "output_type": "stream",
     "text": [
      "Is {AND, OR, NOT} complete? True\n",
      "\n",
      "Why it's complete:\n",
      "  - AND is in T₀, but NOT escapes T₀\n",
      "  - AND is in T₁, but NOT escapes T₁\n",
      "  - AND, OR are monotone, but NOT escapes M\n",
      "  - XOR is in A, but AND escapes A\n",
      "  - AND is in D? Let's check...\n",
      "    AND in D: False\n",
      "    OR in D: False\n",
      "  - One of them escapes D\n",
      "\n",
      "All 5 classes escaped → Complete!\n"
     ]
    }
   ],
   "source": [
    "# Check completeness of {AND, OR, NOT}\n",
    "set1 = [AND, OR, NOT]\n",
    "\n",
    "result = is_complete(set1)\n",
    "print(f\"Is {{AND, OR, NOT}} complete? {result}\")\n",
    "print()\n",
    "\n",
    "# Show why it's complete\n",
    "print(\"Why it's complete:\")\n",
    "print(\"  - AND is in T₀, but NOT escapes T₀\")\n",
    "print(\"  - AND is in T₁, but NOT escapes T₁\")\n",
    "print(\"  - AND, OR are monotone, but NOT escapes M\")\n",
    "print(\"  - XOR is in A, but AND escapes A\")\n",
    "print(\"  - AND is in D? Let's check...\")\n",
    "print(f\"    AND in D: {'D' in get_post_class_memberships(AND)}\")\n",
    "print(f\"    OR in D: {'D' in get_post_class_memberships(OR)}\")\n",
    "print(\"  - One of them escapes D\")\n",
    "print()\n",
    "print(\"All 5 classes escaped → Complete!\")"
   ]
  },
  {
   "cell_type": "markdown",
   "metadata": {},
   "source": [
    "## 7. Famous Complete Set: {NAND}\n",
    "\n",
    "Remarkably, **NAND alone** is complete!"
   ]
  },
  {
   "cell_type": "code",
   "execution_count": 7,
   "metadata": {},
   "outputs": [
    {
     "name": "stdout",
     "output_type": "stream",
     "text": [
      "Is {NAND} complete? True\n",
      "\n",
      "NAND Post class memberships:\n",
      "  T0: ✗ ESCAPES\n",
      "  T1: ✗ ESCAPES\n",
      "  M: ✗ ESCAPES\n",
      "  D: ✗ ESCAPES\n",
      "  A: ✗ ESCAPES\n",
      "\n",
      "NAND escapes all 5 classes → Complete!\n"
     ]
    }
   ],
   "source": [
    "# Check completeness of {NAND}\n",
    "set2 = [NAND]\n",
    "\n",
    "result = is_complete(set2)\n",
    "print(f\"Is {{NAND}} complete? {result}\")\n",
    "print()\n",
    "\n",
    "# Show Post class memberships\n",
    "memberships = get_post_class_memberships(NAND)\n",
    "print(\"NAND Post class memberships:\")\n",
    "for class_name in ['T0', 'T1', 'M', 'D', 'A']:\n",
    "    is_member = class_name in memberships\n",
    "    status = \"✓ IN\" if is_member else \"✗ ESCAPES\"\n",
    "    print(f\"  {class_name}: {status}\")\n",
    "print()\n",
    "print(\"NAND escapes all 5 classes → Complete!\")"
   ]
  },
  {
   "cell_type": "markdown",
   "metadata": {},
   "source": [
    "### Why NAND is Universal\n",
    "\n",
    "You can build any connective from NAND:"
   ]
  },
  {
   "cell_type": "code",
   "execution_count": 8,
   "metadata": {},
   "outputs": [
    {
     "name": "stdout",
     "output_type": "stream",
     "text": [
      "Building connectives from NAND:\n",
      "\n",
      "NOT from NAND:\n",
      "  NOT(0) = 1, NAND(0,0) = 1 ✓\n",
      "  NOT(1) = 0, NAND(1,1) = 0 ✓\n",
      "\n",
      "AND from NAND:\n",
      "  AND(0,0) = 0, built from NAND = 0 ✓\n",
      "  AND(0,1) = 0, built from NAND = 0 ✓\n",
      "  AND(1,0) = 0, built from NAND = 0 ✓\n",
      "  AND(1,1) = 1, built from NAND = 1 ✓\n"
     ]
    }
   ],
   "source": [
    "# Build NOT from NAND\n",
    "def NOT_from_NAND(x):\n",
    "    return NAND.evaluate(x, x)\n",
    "\n",
    "# Build AND from NAND\n",
    "def AND_from_NAND(x, y):\n",
    "    return NAND.evaluate(NAND.evaluate(x, y), NAND.evaluate(x, y))\n",
    "\n",
    "# Verify\n",
    "print(\"Building connectives from NAND:\")\n",
    "print()\n",
    "print(\"NOT from NAND:\")\n",
    "for x in [0, 1]:\n",
    "    result = NOT_from_NAND(x)\n",
    "    expected = NOT.evaluate(x)\n",
    "    print(f\"  NOT({x}) = {expected}, NAND({x},{x}) = {result} {'✓' if result == expected else '✗'}\")\n",
    "\n",
    "print()\n",
    "print(\"AND from NAND:\")\n",
    "for x in [0, 1]:\n",
    "    for y in [0, 1]:\n",
    "        result = AND_from_NAND(x, y)\n",
    "        expected = AND.evaluate(x, y)\n",
    "        print(f\"  AND({x},{y}) = {expected}, built from NAND = {result} {'✓' if result == expected else '✗'}\")"
   ]
  },
  {
   "cell_type": "markdown",
   "metadata": {},
   "source": [
    "## 8. Incomplete Sets\n",
    "\n",
    "Let's see an incomplete set:"
   ]
  },
  {
   "cell_type": "code",
   "execution_count": 9,
   "metadata": {},
   "outputs": [
    {
     "name": "stdout",
     "output_type": "stream",
     "text": [
      "Is {AND, OR} complete? False\n",
      "\n",
      "Why it's incomplete:\n",
      "  AND in M: True\n",
      "  OR in M: True\n",
      "\n",
      "Both are monotone → cannot escape M → incomplete!\n",
      "This means: cannot define NOT or any non-monotone connective.\n"
     ]
    }
   ],
   "source": [
    "# Check {AND, OR} without NOT\n",
    "set3 = [AND, OR]\n",
    "\n",
    "result = is_complete(set3)\n",
    "print(f\"Is {{AND, OR}} complete? {result}\")\n",
    "print()\n",
    "\n",
    "# Both are monotone\n",
    "print(\"Why it's incomplete:\")\n",
    "print(f\"  AND in M: {'M' in get_post_class_memberships(AND)}\")\n",
    "print(f\"  OR in M: {'M' in get_post_class_memberships(OR)}\")\n",
    "print()\n",
    "print(\"Both are monotone → cannot escape M → incomplete!\")\n",
    "print(\"This means: cannot define NOT or any non-monotone connective.\")"
   ]
  },
  {
   "cell_type": "markdown",
   "metadata": {},
   "source": [
    "## 9. Interactive Exercise\n",
    "\n",
    "Is {XOR, AND} complete?"
   ]
  },
  {
   "cell_type": "code",
   "execution_count": 10,
   "metadata": {},
   "outputs": [
    {
     "name": "stdout",
     "output_type": "stream",
     "text": [
      "Is {XOR, AND} complete? False\n",
      "\n",
      "Post class memberships:\n",
      "\n",
      "XOR:\n",
      "  T0: IN\n",
      "  T1: escapes\n",
      "  M: escapes\n",
      "  D: escapes\n",
      "  A: IN\n",
      "\n",
      "AND:\n",
      "  T0: IN\n",
      "  T1: IN\n",
      "  M: IN\n",
      "  D: escapes\n",
      "  A: escapes\n"
     ]
    }
   ],
   "source": [
    "# Check {XOR, AND}\n",
    "set4 = [XOR, AND]\n",
    "\n",
    "result = is_complete(set4)\n",
    "print(f\"Is {{XOR, AND}} complete? {result}\")\n",
    "print()\n",
    "\n",
    "# Analyze\n",
    "print(\"Post class memberships:\")\n",
    "for conn in set4:\n",
    "    memberships = get_post_class_memberships(conn)\n",
    "    print(f\"\\n{conn.name}:\")\n",
    "    for class_name in ['T0', 'T1', 'M', 'D', 'A']:\n",
    "        is_member = class_name in memberships\n",
    "        status = \"IN\" if is_member else \"escapes\"\n",
    "        print(f\"  {class_name}: {status}\")"
   ]
  },
  {
   "cell_type": "markdown",
   "metadata": {},
   "source": [
    "## 10. Building Complete Sets\n",
    "\n",
    "To build a complete set, you need connectives that collectively escape all 5 classes.\n",
    "\n",
    "Let's try {XOR, AND, TRUE}:"
   ]
  },
  {
   "cell_type": "code",
   "execution_count": 11,
   "metadata": {},
   "outputs": [
    {
     "name": "stdout",
     "output_type": "stream",
     "text": [
      "Is {XOR, AND, TRUE} complete? True\n",
      "\n",
      "Yes! This is a nice set of size 3.\n",
      "(assuming it's also independent - see next notebook)\n"
     ]
    }
   ],
   "source": [
    "# Check {XOR, AND, TRUE}\n",
    "set5 = [XOR, AND, TRUE]\n",
    "\n",
    "result = is_complete(set5)\n",
    "print(f\"Is {{XOR, AND, TRUE}} complete? {result}\")\n",
    "print()\n",
    "\n",
    "if result:\n",
    "    print(\"Yes! This is a nice set of size 3.\")\n",
    "    print(\"(assuming it's also independent - see next notebook)\")\n",
    "else:\n",
    "    print(\"Not complete. Need different connectives.\")"
   ]
  },
  {
   "cell_type": "markdown",
   "metadata": {},
   "source": [
    "## Summary\n",
    "\n",
    "In this notebook, you learned:\n",
    "- ✓ What completeness means\n",
    "- ✓ The 5 Post classes (T₀, T₁, M, D, A)\n",
    "- ✓ Post's Completeness Theorem\n",
    "- ✓ How to check completeness in O(n) time\n",
    "- ✓ Famous complete sets: {NAND}, {AND, OR, NOT}\n",
    "\n",
    "## Key Insight\n",
    "\n",
    "**Completeness is necessary but not sufficient for a \"nice\" set.**\n",
    "\n",
    "A nice set must also be **independent** - no connective is definable from the others.\n",
    "\n",
    "## Next Steps\n",
    "\n",
    "- **04_independence.ipynb** - Learn about independence checking"
   ]
  }
 ],
 "metadata": {
  "kernelspec": {
   "display_name": "Python 3 (ipykernel)",
   "language": "python",
   "name": "python3"
  },
  "language_info": {
   "codemirror_mode": {
    "name": "ipython",
    "version": 3
   },
   "file_extension": ".py",
   "mimetype": "text/x-python",
   "name": "python",
   "nbconvert_exporter": "python",
   "pygments_lexer": "ipython3",
   "version": "3.12.8"
  }
 },
 "nbformat": 4,
 "nbformat_minor": 4
}
