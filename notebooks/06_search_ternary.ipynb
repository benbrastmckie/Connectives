{
 "cells": [
  {
   "cell_type": "markdown",
   "metadata": {},
   "source": [
    "# Searching with Ternary Connectives\n",
    "\n",
    "This notebook demonstrates Z3-based search including ternary (3-input) connectives.\n",
    "\n",
    "## Learning Objectives\n",
    "\n",
    "By the end of this notebook, you will:\n",
    "- Understand the jump from binary (max=3) to ternary (size 17+)\n",
    "- Learn how Z3 constraint solving enables larger searches\n",
    "- See arity distributions (90%+ ternary)\n",
    "- Explore ternary connectives from the glossary\n",
    "- Compare Z3 vs enumeration performance\n",
    "\n",
    "## Warning\n",
    "\n",
    "Z3 searches can take time! Size-17 takes ~1 second, but size-30+ can take minutes to hours."
   ]
  },
  {
   "cell_type": "code",
   "source": "# Setup Python path to find the src module\nimport sys\nfrom pathlib import Path\n\n# Add project root to Python path\nproject_root = Path.cwd().parent\nif str(project_root) not in sys.path:\n    sys.path.insert(0, str(project_root))\n\nprint(f\"✓ Project root added to path: {project_root}\")",
   "metadata": {},
   "execution_count": null,
   "outputs": []
  },
  {
   "cell_type": "markdown",
   "source": "## 0. Python Path Setup\n\nFirst, let's ensure Python can find the project modules:",
   "metadata": {}
  },
  {
   "cell_type": "code",
   "execution_count": null,
   "metadata": {},
   "outputs": [],
   "source": [
    "# Setup\n",
    "from src.connectives import Connective\n",
    "from src.constants import ALL_BINARY, TRUE, FALSE\n",
    "from src.proofs.z3_proof import search_z3_nice_set\n",
    "from notebooks.utils import (\n",
    "    display_truth_table,\n",
    "    print_nice_set_summary,\n",
    "    plot_arity_distribution\n",
    ")\n",
    "\n",
    "import matplotlib.pyplot as plt\n",
    "%matplotlib inline\n",
    "\n",
    "print(\"✓ Setup complete\")"
   ]
  },
  {
   "cell_type": "markdown",
   "metadata": {},
   "source": [
    "## 1. The Ternary Connective Pool\n",
    "\n",
    "Ternary connectives have 3 inputs, giving 2³ = 8 rows.\n",
    "This means 2⁸ = **256 possible ternary connectives**."
   ]
  },
  {
   "cell_type": "code",
   "execution_count": null,
   "metadata": {},
   "outputs": [],
   "source": [
    "# Create ternary connective pool\n",
    "all_ternary = [Connective(3, i) for i in range(256)]\n",
    "\n",
    "print(f\"Total ternary connectives: {len(all_ternary)}\")\n",
    "print(f\"Total binary connectives: {len(ALL_BINARY)}\")\n",
    "print(f\"Total nullary (constants): 2\")\n",
    "print()\n",
    "print(f\"Combined pool size: {2 + len(ALL_BINARY) + len(all_ternary)} connectives\")"
   ]
  },
  {
   "cell_type": "markdown",
   "metadata": {},
   "source": [
    "## 2. Quick Search: Size 17\n",
    "\n",
    "Let's search for a size-17 nice set (should take ~1 second):"
   ]
  },
  {
   "cell_type": "code",
   "execution_count": null,
   "metadata": {},
   "outputs": [],
   "source": [
    "# Search for size-17 nice set\n",
    "print(\"Searching for size-17 nice set with Z3...\")\n",
    "print(\"(Expected time: ~1-2 seconds)\")\n",
    "print()\n",
    "\n",
    "# Build combined pool\n",
    "combined_pool = [TRUE, FALSE] + ALL_BINARY + all_ternary\n",
    "\n",
    "result = search_z3_nice_set(\n",
    "    pool=combined_pool,\n",
    "    target_size=17,\n",
    "    max_depth=3,\n",
    "    max_candidates=100\n",
    ")\n",
    "\n",
    "if result:\n",
    "    print(f\"✓ Found nice set of size {len(result)}!\")\n",
    "    print()\n",
    "    print_nice_set_summary(result, \"Size-17 Nice Set\")\n",
    "else:\n",
    "    print(\"✗ No nice set found (try increasing max_candidates)\")"
   ]
  },
  {
   "cell_type": "markdown",
   "metadata": {},
   "source": [
    "## 3. Arity Distribution Analysis\n",
    "\n",
    "Let's see how arities are distributed in this nice set:"
   ]
  },
  {
   "cell_type": "code",
   "execution_count": null,
   "metadata": {},
   "outputs": [],
   "source": [
    "# Plot arity distribution\n",
    "if result:\n",
    "    fig = plot_arity_distribution(result, title=\"Arity Distribution: Size-17 Nice Set\")\n",
    "    plt.show()\n",
    "    \n",
    "    # Calculate percentages\n",
    "    arity_counts = {}\n",
    "    for conn in result:\n",
    "        arity_counts[conn.arity] = arity_counts.get(conn.arity, 0) + 1\n",
    "    \n",
    "    ternary_count = arity_counts.get(3, 0)\n",
    "    ternary_pct = (ternary_count / len(result)) * 100\n",
    "    \n",
    "    print(f\"\\nTernary connectives: {ternary_count}/{len(result)} ({ternary_pct:.1f}%)\")\n",
    "    print(\"\\nKey insight: Ternary connectives dominate larger nice sets!\")"
   ]
  },
  {
   "cell_type": "markdown",
   "metadata": {},
   "source": [
    "## 4. Exploring Ternary Connectives\n",
    "\n",
    "Let's examine some ternary connectives from the nice set:"
   ]
  },
  {
   "cell_type": "code",
   "execution_count": null,
   "metadata": {},
   "outputs": [],
   "source": [
    "# Show ternary connectives\n",
    "if result:\n",
    "    ternary_conns = [c for c in result if c.arity == 3]\n",
    "    \n",
    "    print(f\"Ternary connectives in this nice set ({len(ternary_conns)} total):\")\n",
    "    print()\n",
    "    \n",
    "    for i, conn in enumerate(ternary_conns[:5], 1):  # Show first 5\n",
    "        print(f\"{i}. {conn.name}\")\n",
    "        print(display_truth_table(conn))\n",
    "        print()\n",
    "    \n",
    "    if len(ternary_conns) > 5:\n",
    "        print(f\"... and {len(ternary_conns) - 5} more ternary connectives\")\n",
    "    \n",
    "    print(\"\\nSee ../glossary/connectives.md for complete truth tables!\")"
   ]
  },
  {
   "cell_type": "markdown",
   "metadata": {},
   "source": [
    "## 5. Larger Searches (Optional)\n",
    "\n",
    "**Warning**: Size 30+ searches can take several minutes!\n",
    "\n",
    "Uncomment to try:"
   ]
  },
  {
   "cell_type": "code",
   "execution_count": null,
   "metadata": {},
   "outputs": [],
   "source": [
    "# # Search for size-30 nice set (takes ~4 minutes)\n",
    "# print(\"Searching for size-30 nice set...\")\n",
    "# print(\"(This will take several minutes!)\")\n",
    "# print()\n",
    "\n",
    "# result_30 = search_z3_nice_set(\n",
    "#     pool=combined_pool,\n",
    "#     target_size=30,\n",
    "#     max_depth=3,\n",
    "#     max_candidates=2000\n",
    "# )\n",
    "\n",
    "# if result_30:\n",
    "#     print(f\"✓ Found nice set of size {len(result_30)}!\")\n",
    "#     print_nice_set_summary(result_30, \"Size-30 Nice Set\")\n",
    "#     \n",
    "#     fig = plot_arity_distribution(result_30, title=\"Arity Distribution: Size-30\")\n",
    "#     plt.show()"
   ]
  },
  {
   "cell_type": "markdown",
   "metadata": {},
   "source": [
    "## 6. Performance Comparison: Z3 vs Enumeration\n",
    "\n",
    "Why use Z3 for ternary searches?\n",
    "\n",
    "### Enumeration Approach\n",
    "- Checks all C(274, 17) combinations for size 17\n",
    "- C(274, 17) ≈ 10³⁷ combinations\n",
    "- **Completely infeasible!**\n",
    "\n",
    "### Z3 Constraint Solving\n",
    "- Encodes completeness and independence as SAT constraints\n",
    "- Uses SMT solver to find satisfying assignments\n",
    "- Finds size-17 in ~1 second\n",
    "- Finds size-30 in ~4 minutes\n",
    "- **Practical and efficient!**"
   ]
  },
  {
   "cell_type": "markdown",
   "metadata": {},
   "source": [
    "## 7. Current Research Findings\n",
    "\n",
    "See the [Research Results](../docs/RESULTS.md) for complete findings:\n",
    "\n",
    "| Arity Range | Maximum Size | Time |\n",
    "|-------------|--------------|------|\n",
    "| Binary only (≤2) | 3 | <1s |\n",
    "| Unary+Binary (≤2) | 5 | 0.04s |\n",
    "| **Up to Ternary (≤3)** | **35** | **~46 min** |\n",
    "\n",
    "### Size-35 Example\n",
    "- 1 constant + 1 binary + 33 ternary\n",
    "- 94% ternary!\n",
    "- Found via extended Z3 search"
   ]
  },
  {
   "cell_type": "markdown",
   "metadata": {},
   "source": [
    "## 8. Exploring the Glossary\n",
    "\n",
    "The project includes a comprehensive glossary of all 256 ternary connectives:"
   ]
  },
  {
   "cell_type": "code",
   "execution_count": null,
   "metadata": {},
   "outputs": [],
   "source": [
    "# Sample some ternary connectives\n",
    "interesting_ternary = [19, 23, 150, 232, 247]\n",
    "\n",
    "print(\"Sample ternary connectives from glossary:\")\n",
    "print()\n",
    "\n",
    "for tt_value in interesting_ternary:\n",
    "    conn = Connective(3, tt_value)\n",
    "    print(f\"{conn.name} (truth table {tt_value}):\")\n",
    "    print(display_truth_table(conn))\n",
    "    print()\n",
    "\n",
    "print(\"See ../glossary/connectives.md for all 256 ternary connectives!\")"
   ]
  },
  {
   "cell_type": "markdown",
   "metadata": {},
   "source": [
    "## Summary\n",
    "\n",
    "In this notebook, you learned:\n",
    "- ✓ Ternary connectives enable much larger nice sets (3 → 17+)\n",
    "- ✓ Z3 constraint solving is essential for large searches\n",
    "- ✓ Arity distributions shift heavily toward ternary (90%+)\n",
    "- ✓ Size-35 is the current maximum for arity ≤3\n",
    "- ✓ How to explore ternary connectives\n",
    "\n",
    "## Key Insights\n",
    "\n",
    "1. **Binary-only maximum: 3**\n",
    "2. **With ternary: 35 (and possibly higher!)**\n",
    "3. **Ternary connectives are essential** for large nice sets\n",
    "4. **Z3 makes the search practical** (enumeration is infeasible)\n",
    "\n",
    "## Next Steps\n",
    "\n",
    "- **[Research Results](../docs/RESULTS.md)** - Complete findings\n",
    "- **[Glossary](../glossary/connectives.md)** - All ternary connectives\n",
    "- **[Examples](../examples/README.md)** - Real search outputs\n",
    "- **CLI Usage** - Run your own searches with `python -m src.cli prove z3`"
   ]
  }
 ],
 "metadata": {
  "kernelspec": {
   "display_name": "Python 3",
   "language": "python",
   "name": "python3"
  },
  "language_info": {
   "codemirror_mode": {
    "name": "ipython",
    "version": 3
   },
   "file_extension": ".py",
   "mimetype": "text/x-python",
   "name": "python",
   "nbconvert_exporter": "python",
   "pygments_lexer": "ipython3",
   "version": "3.8.0"
  }
 },
 "nbformat": 4,
 "nbformat_minor": 4
}