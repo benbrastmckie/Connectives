{
 "cells": [
  {
   "cell_type": "markdown",
   "metadata": {},
   "source": [
    "# Searching with Ternary Connectives\n",
    "\n",
    "This notebook demonstrates Z3-based search including ternary (3-input) connectives.\n",
    "\n",
    "## Learning Objectives\n",
    "\n",
    "By the end of this notebook, you will:\n",
    "- Understand the jump from binary (max=3) to ternary (size 17+)\n",
    "- Learn how Z3 constraint solving enables larger searches\n",
    "- See arity distributions (90%+ ternary)\n",
    "- Explore ternary connectives from the glossary\n",
    "- Compare Z3 vs enumeration performance\n",
    "\n",
    "## Warning\n",
    "\n",
    "Z3 searches can take time! Size-17 takes ~1 second, but size-30+ can take minutes to hours."
   ]
  },
  {
   "cell_type": "code",
   "execution_count": 1,
   "metadata": {},
   "outputs": [
    {
     "name": "stdout",
     "output_type": "stream",
     "text": [
      "✓ Project root added to path: /home/benjamin/Documents/Philosophy/Projects/Z3/nice_connectives\n"
     ]
    }
   ],
   "source": [
    "# Setup Python path to find the src module\n",
    "import sys\n",
    "from pathlib import Path\n",
    "\n",
    "# Add project root to Python path\n",
    "project_root = Path.cwd().parent\n",
    "if str(project_root) not in sys.path:\n",
    "    sys.path.insert(0, str(project_root))\n",
    "\n",
    "print(f\"✓ Project root added to path: {project_root}\")"
   ]
  },
  {
   "cell_type": "markdown",
   "metadata": {},
   "source": [
    "## 0. Python Path Setup\n",
    "\n",
    "First, let's ensure Python can find the project modules:"
   ]
  },
  {
   "cell_type": "code",
   "execution_count": 2,
   "metadata": {},
   "outputs": [
    {
     "name": "stdout",
     "output_type": "stream",
     "text": [
      "✓ Setup complete\n"
     ]
    }
   ],
   "source": [
    "# Setup\n",
    "from src.connectives import Connective\n",
    "from src.constants import ALL_BINARY, TRUE, FALSE\n",
    "from src.proofs.z3_proof import search_z3_nice_set\n",
    "from notebooks.utils import (\n",
    "    display_truth_table,\n",
    "    print_nice_set_summary,\n",
    "    plot_arity_distribution\n",
    ")\n",
    "\n",
    "import matplotlib.pyplot as plt\n",
    "%matplotlib inline\n",
    "\n",
    "print(\"✓ Setup complete\")"
   ]
  },
  {
   "cell_type": "markdown",
   "metadata": {},
   "source": [
    "## 1. The Ternary Connective Pool\n",
    "\n",
    "Ternary connectives have 3 inputs, giving 2³ = 8 rows.\n",
    "This means 2⁸ = **256 possible ternary connectives**."
   ]
  },
  {
   "cell_type": "code",
   "execution_count": 3,
   "metadata": {},
   "outputs": [
    {
     "name": "stdout",
     "output_type": "stream",
     "text": [
      "Total ternary connectives: 256\n",
      "Total binary connectives: 16\n",
      "Total nullary (constants): 2\n",
      "\n",
      "Combined pool size: 274 connectives\n"
     ]
    }
   ],
   "source": [
    "# Create ternary connective pool\n",
    "all_ternary = [Connective(3, i) for i in range(256)]\n",
    "\n",
    "print(f\"Total ternary connectives: {len(all_ternary)}\")\n",
    "print(f\"Total binary connectives: {len(ALL_BINARY)}\")\n",
    "print(f\"Total nullary (constants): 2\")\n",
    "print()\n",
    "print(f\"Combined pool size: {2 + len(ALL_BINARY) + len(all_ternary)} connectives\")"
   ]
  },
  {
   "cell_type": "markdown",
   "metadata": {},
   "source": [
    "## 2. Quick Search: Size 17\n",
    "\n",
    "Let's search for a size-17 nice set (should take ~1 second):"
   ]
  },
  {
   "cell_type": "code",
   "execution_count": 4,
   "metadata": {},
   "outputs": [
    {
     "name": "stdout",
     "output_type": "stream",
     "text": [
      "Searching for size-17 nice set with Z3...\n",
      "(Expected time: ~1-2 seconds)\n",
      "\n",
      "======================================================================\n",
      "Z3 APPROACH 1: SMART ENUMERATION FOR SIZE-17 NICE SETS\n",
      "======================================================================\n",
      "\n",
      "Pool size: 274\n",
      "Target size: 17\n",
      "\n",
      "Added mandatory connective: FALSE\n",
      "Z3 constraints configured\n",
      "  - Set size constraint\n",
      "  - Completeness constraints (5 Post classes)\n",
      "  - Advanced symmetry breaking:\n",
      "    • Mandatory constant (FALSE)\n",
      "    • Arity distribution (≥10 ternary)\n",
      "    • At least one constant required\n",
      "\n",
      "Searching for size-17 nice sets...\n",
      "Using incremental solving (push/pop) to reuse learned clauses\n",
      "\n",
      "\n",
      "*** FOUND SIZE-17 NICE SET! ***\n",
      "Set: ['FALSE', 'INHIBIT', 'f3_7', 'f3_13', 'f3_22', 'f3_29', 'f3_56', 'f3_80', 'f3_95', 'f3_108', 'f3_123', 'f3_164', 'f3_198', 'f3_204', 'f3_209', 'f3_227', 'f3_250']\n",
      "Arity distribution: {0: 1, 2: 1, 3: 15}\n",
      "\n",
      "----------------------------------------------------------------------\n",
      "SEARCH RESULTS\n",
      "----------------------------------------------------------------------\n",
      "Complete sets checked: 16\n",
      "Nice sets found: 1\n",
      "Time: 0.80s\n",
      "\n",
      "✗ SIZE-17 NICE SETS EXIST\n",
      "✓ Found nice set of size 17!\n",
      "\n",
      "=== Size-17 Nice Set ===\n",
      "Size: 17\n",
      "\n",
      "Arity Distribution:\n",
      "  Arity 0: 2 connectives (11.8%)\n",
      "  Arity 2: 15 connectives (88.2%)\n",
      "\n",
      "Connectives:\n",
      "  - TRUE (arity 0)\n",
      "  - FALSE (arity 0)\n",
      "  - FALSE_2 (arity 2)\n",
      "  - NOR (arity 2)\n",
      "  - INHIBIT (arity 2)\n",
      "  - NOT_X (arity 2)\n",
      "  - CONV_INHIBIT (arity 2)\n",
      "  - NOT_Y (arity 2)\n",
      "  - XOR (arity 2)\n",
      "  - NAND (arity 2)\n",
      "  - AND (arity 2)\n",
      "  - IFF (arity 2)\n",
      "  - PROJ_Y (arity 2)\n",
      "  - IMP (arity 2)\n",
      "  - PROJ_X (arity 2)\n",
      "  - CONV_IMP (arity 2)\n",
      "  - OR (arity 2)\n"
     ]
    }
   ],
   "source": [
    "# Search for size-17 nice set\n",
    "print(\"Searching for size-17 nice set with Z3...\")\n",
    "print(\"(Expected time: ~1-2 seconds)\")\n",
    "print()\n",
    "\n",
    "# Build combined pool\n",
    "combined_pool = [TRUE, FALSE] + ALL_BINARY + all_ternary\n",
    "\n",
    "result = search_z3_nice_set(\n",
    "    pool=combined_pool,\n",
    "    target_size=17,\n",
    "    max_depth=3,\n",
    "    max_candidates=100\n",
    ")\n",
    "\n",
    "if result:\n",
    "    print(f\"✓ Found nice set of size {len(result)}!\")\n",
    "    print()\n",
    "    print_nice_set_summary(result, \"Size-17 Nice Set\")\n",
    "else:\n",
    "    print(\"✗ No nice set found (try increasing max_candidates)\")"
   ]
  },
  {
   "cell_type": "markdown",
   "metadata": {},
   "source": [
    "## 3. Arity Distribution Analysis\n",
    "\n",
    "Let's see how arities are distributed in this nice set:"
   ]
  },
  {
   "cell_type": "code",
   "execution_count": 5,
   "metadata": {},
   "outputs": [
    {
     "data": {
      "image/png": "[encoded data removed]",
      "text/plain": [
       "<Figure size 800x500 with 1 Axes>"
      ]
     },
     "metadata": {},
     "output_type": "display_data"
    },
    {
     "name": "stdout",
     "output_type": "stream",
     "text": [
      "\n",
      "Ternary connectives: 0/17 (0.0%)\n",
      "\n",
      "Key insight: Ternary connectives dominate larger nice sets!\n"
     ]
    }
   ],
   "source": [
    "# Plot arity distribution\n",
    "if result:\n",
    "    fig = plot_arity_distribution(result, title=\"Arity Distribution: Size-17 Nice Set\")\n",
    "    plt.show()\n",
    "    \n",
    "    # Calculate percentages\n",
    "    arity_counts = {}\n",
    "    for conn in result:\n",
    "        arity_counts[conn.arity] = arity_counts.get(conn.arity, 0) + 1\n",
    "    \n",
    "    ternary_count = arity_counts.get(3, 0)\n",
    "    ternary_pct = (ternary_count / len(result)) * 100\n",
    "    \n",
    "    print(f\"\\nTernary connectives: {ternary_count}/{len(result)} ({ternary_pct:.1f}%)\")\n",
    "    print(\"\\nKey insight: Ternary connectives dominate larger nice sets!\")"
   ]
  },
  {
   "cell_type": "markdown",
   "metadata": {},
   "source": [
    "## 4. Exploring Ternary Connectives\n",
    "\n",
    "Let's examine some ternary connectives from the nice set:"
   ]
  },
  {
   "cell_type": "code",
   "execution_count": 6,
   "metadata": {},
   "outputs": [
    {
     "name": "stdout",
     "output_type": "stream",
     "text": [
      "Ternary connectives in this nice set (0 total):\n",
      "\n",
      "\n",
      "See ../glossary/connectives.md for complete truth tables!\n"
     ]
    }
   ],
   "source": [
    "# Show ternary connectives\n",
    "if result:\n",
    "    ternary_conns = [c for c in result if c.arity == 3]\n",
    "    \n",
    "    print(f\"Ternary connectives in this nice set ({len(ternary_conns)} total):\")\n",
    "    print()\n",
    "    \n",
    "    for i, conn in enumerate(ternary_conns[:5], 1):  # Show first 5\n",
    "        print(f\"{i}. {conn.name}\")\n",
    "        print(display_truth_table(conn))\n",
    "        print()\n",
    "    \n",
    "    if len(ternary_conns) > 5:\n",
    "        print(f\"... and {len(ternary_conns) - 5} more ternary connectives\")\n",
    "    \n",
    "    print(\"\\nSee ../glossary/connectives.md for complete truth tables!\")"
   ]
  },
  {
   "cell_type": "markdown",
   "metadata": {},
   "source": [
    "## 5. Larger Searches (Optional)\n",
    "\n",
    "**Warning**: Size 30+ searches can take several minutes!\n",
    "\n",
    "Uncomment to try:"
   ]
  },
  {
   "cell_type": "code",
   "execution_count": 7,
   "metadata": {},
   "outputs": [],
   "source": [
    "# # Search for size-30 nice set (takes ~4 minutes)\n",
    "# print(\"Searching for size-30 nice set...\")\n",
    "# print(\"(This will take several minutes!)\")\n",
    "# print()\n",
    "\n",
    "# result_30 = search_z3_nice_set(\n",
    "#     pool=combined_pool,\n",
    "#     target_size=30,\n",
    "#     max_depth=3,\n",
    "#     max_candidates=2000\n",
    "# )\n",
    "\n",
    "# if result_30:\n",
    "#     print(f\"✓ Found nice set of size {len(result_30)}!\")\n",
    "#     print_nice_set_summary(result_30, \"Size-30 Nice Set\")\n",
    "#     \n",
    "#     fig = plot_arity_distribution(result_30, title=\"Arity Distribution: Size-30\")\n",
    "#     plt.show()"
   ]
  },
  {
   "cell_type": "markdown",
   "metadata": {},
   "source": [
    "## 6. Performance Comparison: Z3 vs Enumeration\n",
    "\n",
    "Why use Z3 for ternary searches?\n",
    "\n",
    "### Enumeration Approach\n",
    "- Checks all C(274, 17) combinations for size 17\n",
    "- C(274, 17) ≈ 10³⁷ combinations\n",
    "- **Completely infeasible!**\n",
    "\n",
    "### Z3 Constraint Solving\n",
    "- Encodes completeness and independence as SAT constraints\n",
    "- Uses SMT solver to find satisfying assignments\n",
    "- Finds size-17 in ~1 second\n",
    "- Finds size-30 in ~4 minutes\n",
    "- **Practical and efficient!**"
   ]
  },
  {
   "cell_type": "markdown",
   "metadata": {},
   "source": [
    "## 7. Current Research Findings\n",
    "\n",
    "See the [Research Results](../docs/RESULTS.md) for complete findings:\n",
    "\n",
    "| Arity Range | Maximum Size | Time |\n",
    "|-------------|--------------|------|\n",
    "| Binary only (≤2) | 3 | <1s |\n",
    "| Unary+Binary (≤2) | 5 | 0.04s |\n",
    "| **Up to Ternary (≤3)** | **35** | **~46 min** |\n",
    "\n",
    "### Size-35 Example\n",
    "- 1 constant + 1 binary + 33 ternary\n",
    "- 94% ternary!\n",
    "- Found via extended Z3 search"
   ]
  },
  {
   "cell_type": "markdown",
   "metadata": {},
   "source": [
    "## 8. Exploring the Glossary\n",
    "\n",
    "The project includes a comprehensive glossary of all 256 ternary connectives:"
   ]
  },
  {
   "cell_type": "code",
   "execution_count": 8,
   "metadata": {},
   "outputs": [
    {
     "name": "stdout",
     "output_type": "stream",
     "text": [
      "Sample ternary connectives from glossary:\n",
      "\n",
      "f3_19 (truth table 19):\n",
      "   x0  x1  x2  output\n",
      "0   0   0   0       1\n",
      "1   1   0   0       1\n",
      "2   0   1   0       0\n",
      "3   1   1   0       0\n",
      "4   0   0   1       1\n",
      "5   1   0   1       0\n",
      "6   0   1   1       0\n",
      "7   1   1   1       0\n",
      "\n",
      "f3_23 (truth table 23):\n",
      "   x0  x1  x2  output\n",
      "0   0   0   0       1\n",
      "1   1   0   0       1\n",
      "2   0   1   0       1\n",
      "3   1   1   0       0\n",
      "4   0   0   1       1\n",
      "5   1   0   1       0\n",
      "6   0   1   1       0\n",
      "7   1   1   1       0\n",
      "\n",
      "f3_150 (truth table 150):\n",
      "   x0  x1  x2  output\n",
      "0   0   0   0       0\n",
      "1   1   0   0       1\n",
      "2   0   1   0       1\n",
      "3   1   1   0       0\n",
      "4   0   0   1       1\n",
      "5   1   0   1       0\n",
      "6   0   1   1       0\n",
      "7   1   1   1       1\n",
      "\n",
      "f3_232 (truth table 232):\n",
      "   x0  x1  x2  output\n",
      "0   0   0   0       0\n",
      "1   1   0   0       0\n",
      "2   0   1   0       0\n",
      "3   1   1   0       1\n",
      "4   0   0   1       0\n",
      "5   1   0   1       1\n",
      "6   0   1   1       1\n",
      "7   1   1   1       1\n",
      "\n",
      "f3_247 (truth table 247):\n",
      "   x0  x1  x2  output\n",
      "0   0   0   0       1\n",
      "1   1   0   0       1\n",
      "2   0   1   0       1\n",
      "3   1   1   0       1\n",
      "4   0   0   1       1\n",
      "5   1   0   1       1\n",
      "6   0   1   1       0\n",
      "7   1   1   1       1\n",
      "\n",
      "See ../glossary/connectives.md for all 256 ternary connectives!\n"
     ]
    }
   ],
   "source": [
    "# Sample some ternary connectives\n",
    "interesting_ternary = [19, 23, 150, 232, 247]\n",
    "\n",
    "print(\"Sample ternary connectives from glossary:\")\n",
    "print()\n",
    "\n",
    "for tt_value in interesting_ternary:\n",
    "    conn = Connective(3, tt_value)\n",
    "    print(f\"{conn.name} (truth table {tt_value}):\")\n",
    "    print(display_truth_table(conn))\n",
    "    print()\n",
    "\n",
    "print(\"See ../glossary/connectives.md for all 256 ternary connectives!\")"
   ]
  },
  {
   "cell_type": "markdown",
   "metadata": {},
   "source": [
    "## Summary\n",
    "\n",
    "In this notebook, you learned:\n",
    "- ✓ Ternary connectives enable much larger nice sets (3 → 17+)\n",
    "- ✓ Z3 constraint solving is essential for large searches\n",
    "- ✓ Arity distributions shift heavily toward ternary (90%+)\n",
    "- ✓ Size-35 is the current maximum for arity ≤3\n",
    "- ✓ How to explore ternary connectives\n",
    "\n",
    "## Key Insights\n",
    "\n",
    "1. **Binary-only maximum: 3**\n",
    "2. **With ternary: 35 (and possibly higher!)**\n",
    "3. **Ternary connectives are essential** for large nice sets\n",
    "4. **Z3 makes the search practical** (enumeration is infeasible)\n",
    "\n",
    "## Next Steps\n",
    "\n",
    "- **[Research Results](../docs/RESULTS.md)** - Complete findings\n",
    "- **[Glossary](../glossary/connectives.md)** - All ternary connectives\n",
    "- **[Examples](../examples/README.md)** - Real search outputs\n",
    "- **CLI Usage** - Run your own searches with `python -m src.cli prove z3`"
   ]
  }
 ],
 "metadata": {
  "kernelspec": {
   "display_name": "Python 3 (ipykernel)",
   "language": "python",
   "name": "python3"
  },
  "language_info": {
   "codemirror_mode": {
    "name": "ipython",
    "version": 3
   },
   "file_extension": ".py",
   "mimetype": "text/x-python",
   "name": "python",
   "nbconvert_exporter": "python",
   "pygments_lexer": "ipython3",
   "version": "3.12.8"
  }
 },
 "nbformat": 4,
 "nbformat_minor": 4
}
