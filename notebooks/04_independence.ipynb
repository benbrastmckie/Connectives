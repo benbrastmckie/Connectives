{
 "cells": [
  {
   "cell_type": "markdown",
   "metadata": {},
   "source": [
    "# Independence Checking\n",
    "\n",
    "This notebook explains independence in logic and how this project checks for independence using pattern enumeration.\n",
    "\n",
    "## Learning Objectives\n",
    "\n",
    "By the end of this notebook, you will understand:\n",
    "- What independence means\n",
    "- Why independence is harder than completeness\n",
    "- Composition depth and bounded checking\n",
    "- Pattern enumeration approach\n",
    "- Examples of dependent vs independent sets"
   ]
  },
  {
   "cell_type": "code",
   "execution_count": 1,
   "metadata": {},
   "outputs": [
    {
     "name": "stdout",
     "output_type": "stream",
     "text": [
      "✓ Project root added to path: /home/benjamin/Documents/Philosophy/Projects/Z3/nice_connectives\n"
     ]
    }
   ],
   "source": [
    "# Setup Python path to find the src module\n",
    "import sys\n",
    "from pathlib import Path\n",
    "\n",
    "# Add project root to Python path\n",
    "project_root = Path.cwd().parent\n",
    "if str(project_root) not in sys.path:\n",
    "    sys.path.insert(0, str(project_root))\n",
    "\n",
    "print(f\"✓ Project root added to path: {project_root}\")"
   ]
  },
  {
   "cell_type": "markdown",
   "metadata": {},
   "source": [
    "## 0. Python Path Setup\n",
    "\n",
    "First, let's ensure Python can find the project modules:"
   ]
  },
  {
   "cell_type": "code",
   "execution_count": 2,
   "metadata": {},
   "outputs": [
    {
     "name": "stdout",
     "output_type": "stream",
     "text": [
      "✓ Setup complete\n"
     ]
    }
   ],
   "source": [
    "# Setup\n",
    "from src.connectives import Connective\n",
    "from src.constants import AND, OR, XOR, NOT, NAND, TRUE, FALSE\n",
    "from src.independence import is_independent\n",
    "from notebooks.utils import display_truth_table, compare_connectives\n",
    "\n",
    "import matplotlib.pyplot as plt\n",
    "%matplotlib inline\n",
    "\n",
    "print(\"✓ Setup complete\")"
   ]
  },
  {
   "cell_type": "markdown",
   "metadata": {},
   "source": [
    "## 1. What is Independence?\n",
    "\n",
    "A set of connectives is **independent** if no connective in the set can be **defined** from the other connectives.\n",
    "\n",
    "### Example: Dependent Set\n",
    "\n",
    "{AND, OR, NOT, NAND} is **dependent** because:\n",
    "- NAND(x,y) = NOT(AND(x,y))\n",
    "\n",
    "NAND is definable from the other three, so the set is not independent.\n",
    "\n",
    "### Example: Independent Set\n",
    "\n",
    "{AND, OR, NOT} is **independent** - none of these can be defined from the other two."
   ]
  },
  {
   "cell_type": "markdown",
   "metadata": {},
   "source": [
    "## 2. Why Independence is Hard\n",
    "\n",
    "Unlike completeness (which has Post's O(n) theorem), checking independence requires:\n",
    "1. For each connective C in the set\n",
    "2. Try to compose the remaining connectives\n",
    "3. Check if any composition equals C\n",
    "\n",
    "This is potentially **exponential** in complexity!\n",
    "\n",
    "### The Solution: Bounded Composition\n",
    "\n",
    "Instead of checking all possible compositions (infinite!), we check up to a **bounded depth**.\n",
    "\n",
    "This project uses **depth 3**, which is sufficient for most practical cases."
   ]
  },
  {
   "cell_type": "markdown",
   "metadata": {},
   "source": [
    "## 3. Composition Depth\n",
    "\n",
    "**Depth 0**: The original connectives themselves\n",
    "\n",
    "**Depth 1**: Applying one connective to the inputs\n",
    "- Example: AND(x, y)\n",
    "\n",
    "**Depth 2**: Applying connectives to depth-1 results\n",
    "- Example: OR(AND(x,y), NOT(x))\n",
    "\n",
    "**Depth 3**: Applying connectives to depth-2 results  \n",
    "- Example: AND(OR(x,y), NOT(AND(x,y)))"
   ]
  },
  {
   "cell_type": "markdown",
   "metadata": {},
   "source": [
    "## 4. Pattern Enumeration\n",
    "\n",
    "The project uses **pattern enumeration** - explicitly listing composition patterns up to depth 3:\n",
    "\n",
    "### Binary Patterns\n",
    "- f(x, y) - Direct application\n",
    "- f(g(x,y), y) - Compose with first arg\n",
    "- f(x, g(x,y)) - Compose with second arg\n",
    "- f(g(x,y), h(x,y)) - Compose both args\n",
    "- ...many more!\n",
    "\n",
    "### Ternary Patterns\n",
    "- f(x, y, z) - Direct application\n",
    "- u(f(x,y,z)) - Unary wrapper\n",
    "- f(g(x,y), z, w) - Partial composition\n",
    "- ...even more!"
   ]
  },
  {
   "cell_type": "markdown",
   "metadata": {},
   "source": [
    "## 5. Example: Dependent Set\n",
    "\n",
    "Let's verify that {AND, NOT, NAND} is dependent:"
   ]
  },
  {
   "cell_type": "code",
   "execution_count": 3,
   "metadata": {},
   "outputs": [
    {
     "name": "stdout",
     "output_type": "stream",
     "text": [
      "Is {AND, NOT, NAND} independent? False\n",
      "\n",
      "Dependent! NAND can be defined:\n",
      "  NAND(x,y) = NOT(AND(x,y))\n",
      "\n",
      "Verification:\n",
      "  NAND(0,0)=1, NOT(AND(0,0))=1 ✓\n",
      "  NAND(0,1)=1, NOT(AND(0,1))=1 ✓\n",
      "  NAND(1,0)=1, NOT(AND(1,0))=1 ✓\n",
      "  NAND(1,1)=0, NOT(AND(1,1))=0 ✓\n"
     ]
    }
   ],
   "source": [
    "# Check independence of {AND, NOT, NAND}\n",
    "set1 = [AND, NOT, NAND]\n",
    "\n",
    "result = is_independent(set1, max_depth=3)\n",
    "print(f\"Is {{AND, NOT, NAND}} independent? {result}\")\n",
    "print()\n",
    "\n",
    "if not result:\n",
    "    print(\"Dependent! NAND can be defined:\")\n",
    "    print(\"  NAND(x,y) = NOT(AND(x,y))\")\n",
    "    print()\n",
    "    print(\"Verification:\")\n",
    "    for x in [0, 1]:\n",
    "        for y in [0, 1]:\n",
    "            nand_direct = NAND.evaluate(x, y)\n",
    "            nand_composed = NOT.evaluate(AND.evaluate(x, y))\n",
    "            match = \"✓\" if nand_direct == nand_composed else \"✗\"\n",
    "            print(f\"  NAND({x},{y})={nand_direct}, NOT(AND({x},{y}))={nand_composed} {match}\")"
   ]
  },
  {
   "cell_type": "markdown",
   "metadata": {},
   "source": [
    "## 6. Example: Independent Set\n",
    "\n",
    "Let's verify that {AND, XOR, TRUE} is independent:"
   ]
  },
  {
   "cell_type": "code",
   "execution_count": 4,
   "metadata": {},
   "outputs": [
    {
     "name": "stdout",
     "output_type": "stream",
     "text": [
      "Is {AND, XOR, TRUE} independent? True\n",
      "\n",
      "Independent! None of these can be defined from the others.\n",
      "\n",
      "Why?\n",
      "  - TRUE is nullary (constant), cannot be composed from binary functions\n",
      "  - AND and XOR have different algebraic properties\n",
      "  - No depth-3 composition of {XOR, TRUE} equals AND\n",
      "  - No depth-3 composition of {AND, TRUE} equals XOR\n"
     ]
    }
   ],
   "source": [
    "# Check independence of {AND, XOR, TRUE}\n",
    "set2 = [AND, XOR, TRUE]\n",
    "\n",
    "result = is_independent(set2, max_depth=3)\n",
    "print(f\"Is {{AND, XOR, TRUE}} independent? {result}\")\n",
    "print()\n",
    "\n",
    "if result:\n",
    "    print(\"Independent! None of these can be defined from the others.\")\n",
    "    print()\n",
    "    print(\"Why?\")\n",
    "    print(\"  - TRUE is nullary (constant), cannot be composed from binary functions\")\n",
    "    print(\"  - AND and XOR have different algebraic properties\")\n",
    "    print(\"  - No depth-3 composition of {XOR, TRUE} equals AND\")\n",
    "    print(\"  - No depth-3 composition of {AND, TRUE} equals XOR\")"
   ]
  },
  {
   "cell_type": "markdown",
   "metadata": {},
   "source": [
    "## 7. Visualizing Dependence\n",
    "\n",
    "Let's see the relationship between AND and NAND:"
   ]
  },
  {
   "cell_type": "code",
   "execution_count": 5,
   "metadata": {},
   "outputs": [
    {
     "data": {
      "image/png": "[encoded data removed]",
      "text/plain": [
       "<Figure size 1500x400 with 2 Axes>"
      ]
     },
     "metadata": {},
     "output_type": "display_data"
    },
    {
     "name": "stdout",
     "output_type": "stream",
     "text": [
      "\n",
      "Notice: NAND outputs are exactly the opposite of AND.\n",
      "This is because NAND = NOT(AND).\n"
     ]
    }
   ],
   "source": [
    "# Compare AND and NAND\n",
    "fig = compare_connectives([AND, NAND], titles=[\"AND\", \"NAND = NOT(AND)\"])\n",
    "plt.show()\n",
    "\n",
    "print(\"\\nNotice: NAND outputs are exactly the opposite of AND.\")\n",
    "print(\"This is because NAND = NOT(AND).\")"
   ]
  },
  {
   "cell_type": "markdown",
   "metadata": {},
   "source": [
    "## 8. Testing Independence with Different Sets\n",
    "\n",
    "Let's test several sets:"
   ]
  },
  {
   "cell_type": "code",
   "execution_count": 6,
   "metadata": {},
   "outputs": [
    {
     "name": "stdout",
     "output_type": "stream",
     "text": [
      "Independence Tests:\n",
      "\n",
      "AND, OR              → ✓ Independent\n",
      "AND, OR, NOT         → ✗ Dependent\n",
      "XOR, AND             → ✓ Independent\n",
      "NAND                 → ✓ Independent\n",
      "TRUE, FALSE          → ✓ Independent\n"
     ]
    }
   ],
   "source": [
    "# Test multiple sets\n",
    "test_sets = [\n",
    "    ([AND, OR], \"AND, OR\"),\n",
    "    ([AND, OR, NOT], \"AND, OR, NOT\"),\n",
    "    ([XOR, AND], \"XOR, AND\"),\n",
    "    ([NAND], \"NAND\"),\n",
    "    ([TRUE, FALSE], \"TRUE, FALSE\"),\n",
    "]\n",
    "\n",
    "print(\"Independence Tests:\")\n",
    "print()\n",
    "\n",
    "for conn_set, name in test_sets:\n",
    "    result = is_independent(conn_set, max_depth=3)\n",
    "    status = \"✓ Independent\" if result else \"✗ Dependent\"\n",
    "    print(f\"{name:20} → {status}\")"
   ]
  },
  {
   "cell_type": "markdown",
   "metadata": {},
   "source": [
    "## 9. Why {TRUE, FALSE} is Dependent\n",
    "\n",
    "TRUE and FALSE are both constants. Let's see why they're dependent:"
   ]
  },
  {
   "cell_type": "code",
   "execution_count": 7,
   "metadata": {},
   "outputs": [
    {
     "name": "stdout",
     "output_type": "stream",
     "text": [
      "Truth tables:\n",
      "\n",
      "TRUE:\n",
      "   output\n",
      "0       1\n",
      "\n",
      "FALSE:\n",
      "   output\n",
      "0       0\n",
      "\n",
      "Both are constants (arity 0).\n",
      "FALSE = NOT(TRUE) if NOT were available.\n",
      "But even without NOT, one constant is sufficient -\n",
      "you don't need both in a minimal set.\n"
     ]
    }
   ],
   "source": [
    "# Show why {TRUE, FALSE} is dependent\n",
    "print(\"Truth tables:\")\n",
    "print()\n",
    "print(\"TRUE:\")\n",
    "print(display_truth_table(TRUE))\n",
    "print()\n",
    "print(\"FALSE:\")\n",
    "print(display_truth_table(FALSE))\n",
    "print()\n",
    "print(\"Both are constants (arity 0).\")\n",
    "print(\"FALSE = NOT(TRUE) if NOT were available.\")\n",
    "print(\"But even without NOT, one constant is sufficient -\")\n",
    "print(\"you don't need both in a minimal set.\")"
   ]
  },
  {
   "cell_type": "markdown",
   "metadata": {},
   "source": [
    "## 10. The Nice Set Property\n",
    "\n",
    "A set is **nice** if it is both:\n",
    "1. **Complete** (can define all connectives)\n",
    "2. **Independent** (no connective is definable from others)\n",
    "\n",
    "Let's check if {XOR, AND, TRUE} is nice:"
   ]
  },
  {
   "cell_type": "code",
   "execution_count": 8,
   "metadata": {},
   "outputs": [
    {
     "name": "stdout",
     "output_type": "stream",
     "text": [
      "Set: {XOR, AND, TRUE}\n",
      "  Complete? True\n",
      "  Independent? True\n",
      "\n",
      "✓ This is a NICE SET of size 3!\n"
     ]
    }
   ],
   "source": [
    "# Check if {XOR, AND, TRUE} is nice\n",
    "from src.post_classes import is_complete\n",
    "\n",
    "candidate_set = [XOR, AND, TRUE]\n",
    "\n",
    "complete = is_complete(candidate_set)\n",
    "independent = is_independent(candidate_set, max_depth=3)\n",
    "\n",
    "print(f\"Set: {{XOR, AND, TRUE}}\")\n",
    "print(f\"  Complete? {complete}\")\n",
    "print(f\"  Independent? {independent}\")\n",
    "print()\n",
    "\n",
    "if complete and independent:\n",
    "    print(\"✓ This is a NICE SET of size 3!\")\n",
    "else:\n",
    "    print(\"✗ Not a nice set.\")\n",
    "    if not complete:\n",
    "        print(\"  Reason: Not complete\")\n",
    "    if not independent:\n",
    "        print(\"  Reason: Not independent\")"
   ]
  },
  {
   "cell_type": "markdown",
   "metadata": {},
   "source": [
    "## 11. Interactive Exercise\n",
    "\n",
    "Try creating your own sets and testing them:"
   ]
  },
  {
   "cell_type": "code",
   "execution_count": 9,
   "metadata": {},
   "outputs": [],
   "source": [
    "# Your turn! Test your own set\n",
    "# Uncomment and modify:\n",
    "\n",
    "# my_set = [AND, OR, XOR]\n",
    "# complete = is_complete(my_set)\n",
    "# independent = is_independent(my_set, max_depth=3)\n",
    "# print(f\"Complete: {complete}, Independent: {independent}\")\n",
    "# if complete and independent:\n",
    "#     print(\"Nice set!\")"
   ]
  },
  {
   "cell_type": "markdown",
   "metadata": {},
   "source": [
    "## 12. Depth Limitations\n",
    "\n",
    "Important: Independence checking at depth 3 is **sufficient but not necessary**.\n",
    "\n",
    "- If depth-3 checking says **independent** → definitely independent\n",
    "- If depth-3 checking says **dependent** → might require deeper composition\n",
    "\n",
    "In practice, depth 3 catches almost all dependencies!"
   ]
  },
  {
   "cell_type": "markdown",
   "metadata": {},
   "source": [
    "## Summary\n",
    "\n",
    "In this notebook, you learned:\n",
    "- ✓ What independence means\n",
    "- ✓ Why independence is harder than completeness\n",
    "- ✓ Composition depth and bounded checking\n",
    "- ✓ Pattern enumeration approach (depth 3)\n",
    "- ✓ Examples of dependent vs independent sets\n",
    "- ✓ The \"nice set\" property = complete + independent\n",
    "\n",
    "## Key Insights\n",
    "\n",
    "1. **Completeness is easy to check** (O(n) via Post's theorem)\n",
    "2. **Independence is harder** (requires composition search)\n",
    "3. **Bounded depth checking** (depth 3) is practical and effective\n",
    "4. **Nice sets** are rare - finding large ones is challenging!\n",
    "\n",
    "## Next Steps\n",
    "\n",
    "- **05_search_binary.ipynb** - Search for nice sets (binary connectives)\n",
    "- **06_search_ternary.ipynb** - Search with ternary connectives\n",
    "- **[Results](../docs/RESULTS.md)** - See current research findings (size-35!)"
   ]
  }
 ],
 "metadata": {
  "kernelspec": {
   "display_name": "Python 3 (ipykernel)",
   "language": "python",
   "name": "python3"
  },
  "language_info": {
   "codemirror_mode": {
    "name": "ipython",
    "version": 3
   },
   "file_extension": ".py",
   "mimetype": "text/x-python",
   "name": "python",
   "nbconvert_exporter": "python",
   "pygments_lexer": "ipython3",
   "version": "3.12.8"
  }
 },
 "nbformat": 4,
 "nbformat_minor": 4
}
