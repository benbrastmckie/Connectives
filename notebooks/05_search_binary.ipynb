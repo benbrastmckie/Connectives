{
 "cells": [
  {
   "cell_type": "markdown",
   "metadata": {},
   "source": [
    "# Searching for Nice Sets: Binary Connectives\n",
    "\n",
    "This notebook demonstrates searching for nice (complete and independent) sets using only binary connectives.\n",
    "\n",
    "## Learning Objectives\n",
    "\n",
    "By the end of this notebook, you will:\n",
    "- Understand enumeration-based search\n",
    "- Learn the classical result: maximum size is 3 for binary-only\n",
    "- See examples of all size-3 nice sets\n",
    "- Understand why size 4 is impossible\n",
    "- Analyze arity distributions"
   ]
  },
  {
   "cell_type": "code",
   "execution_count": 1,
   "metadata": {},
   "outputs": [
    {
     "name": "stdout",
     "output_type": "stream",
     "text": [
      "✓ Project root added to path: /home/benjamin/Documents/Philosophy/Projects/Z3/nice_connectives\n"
     ]
    }
   ],
   "source": [
    "# Setup Python path to find the src module\n",
    "import sys\n",
    "from pathlib import Path\n",
    "\n",
    "# Add project root to Python path\n",
    "project_root = Path.cwd().parent\n",
    "if str(project_root) not in sys.path:\n",
    "    sys.path.insert(0, str(project_root))\n",
    "\n",
    "print(f\"✓ Project root added to path: {project_root}\")"
   ]
  },
  {
   "cell_type": "markdown",
   "metadata": {},
   "source": [
    "## 0. Python Path Setup\n",
    "\n",
    "First, let's ensure Python can find the project modules:"
   ]
  },
  {
   "cell_type": "code",
   "execution_count": 2,
   "metadata": {},
   "outputs": [
    {
     "name": "stdout",
     "output_type": "stream",
     "text": [
      "✓ Setup complete\n"
     ]
    }
   ],
   "source": [
    "# Setup\n",
    "from src.connectives import Connective\n",
    "from src.constants import ALL_BINARY, AND, OR, XOR, TRUE, FALSE, NOT\n",
    "from src.post_classes import is_complete\n",
    "from src.independence import is_independent\n",
    "from src.search import search_nice_sets_enumeration\n",
    "from notebooks.utils import (\n",
    "    display_truth_table,\n",
    "    compare_connectives,\n",
    "    print_nice_set_summary,\n",
    "    plot_arity_distribution\n",
    ")\n",
    "\n",
    "import matplotlib.pyplot as plt\n",
    "%matplotlib inline\n",
    "\n",
    "print(\"✓ Setup complete\")"
   ]
  },
  {
   "cell_type": "markdown",
   "metadata": {},
   "source": [
    "## 1. The Binary Connective Pool\n",
    "\n",
    "Let's see what we're working with:"
   ]
  },
  {
   "cell_type": "code",
   "execution_count": 3,
   "metadata": {},
   "outputs": [
    {
     "name": "stdout",
     "output_type": "stream",
     "text": [
      "Total binary connectives: 16\n",
      "\n",
      "All 16 binary connectives:\n",
      "   1. FALSE_2         (arity 2, truth table  0)\n",
      "   2. NOR             (arity 2, truth table  1)\n",
      "   3. INHIBIT         (arity 2, truth table  2)\n",
      "   4. NOT_X           (arity 2, truth table  3)\n",
      "   5. CONV_INHIBIT    (arity 2, truth table  4)\n",
      "   6. NOT_Y           (arity 2, truth table  5)\n",
      "   7. XOR             (arity 2, truth table  6)\n",
      "   8. NAND            (arity 2, truth table  7)\n",
      "   9. AND             (arity 2, truth table  8)\n",
      "  10. IFF             (arity 2, truth table  9)\n",
      "  11. PROJ_Y          (arity 2, truth table 10)\n",
      "  12. IMP             (arity 2, truth table 11)\n",
      "  13. PROJ_X          (arity 2, truth table 12)\n",
      "  14. CONV_IMP        (arity 2, truth table 13)\n",
      "  15. OR              (arity 2, truth table 14)\n",
      "  16. TRUE_2          (arity 2, truth table 15)\n"
     ]
    }
   ],
   "source": [
    "# Show all binary connectives\n",
    "print(f\"Total binary connectives: {len(ALL_BINARY)}\")\n",
    "print()\n",
    "print(\"All 16 binary connectives:\")\n",
    "for i, conn in enumerate(ALL_BINARY):\n",
    "    print(f\"  {i+1:2d}. {conn.name:15} (arity {conn.arity}, truth table {conn.truth_table_int:2d})\")"
   ]
  },
  {
   "cell_type": "markdown",
   "metadata": {},
   "source": [
    "## 2. Search Strategy\n",
    "\n",
    "The enumeration search works as follows:\n",
    "1. Generate all subsets of size N\n",
    "2. Check each subset for completeness\n",
    "3. Check each complete subset for independence\n",
    "4. Return all nice sets found\n",
    "\n",
    "Let's search for nice sets of size 1, 2, and 3:"
   ]
  },
  {
   "cell_type": "markdown",
   "metadata": {},
   "source": [
    "### Size 1: Single Connectives\n",
    "\n",
    "Can a single binary connective be complete?"
   ]
  },
  {
   "cell_type": "code",
   "execution_count": 4,
   "metadata": {},
   "outputs": [
    {
     "name": "stdout",
     "output_type": "stream",
     "text": [
      "Size-1 nice sets found: 2\n",
      "  ['NOR']\n",
      "  ['NAND']\n"
     ]
    }
   ],
   "source": [
    "# Search for size-1 nice sets\n",
    "size_1_nice_sets = search_nice_sets_enumeration(ALL_BINARY, target_size=1, max_depth=3)\n",
    "\n",
    "print(f\"Size-1 nice sets found: {len(size_1_nice_sets)}\")\n",
    "if size_1_nice_sets:\n",
    "    for nice_set in size_1_nice_sets:\n",
    "        print(f\"  {[c.name for c in nice_set]}\")\n",
    "else:\n",
    "    print(\"  None! Single binary connectives cannot be complete.\")"
   ]
  },
  {
   "cell_type": "markdown",
   "metadata": {},
   "source": [
    "### Size 2: Pairs of Connectives\n",
    "\n",
    "Can two binary connectives form a nice set?"
   ]
  },
  {
   "cell_type": "code",
   "execution_count": 5,
   "metadata": {},
   "outputs": [
    {
     "name": "stdout",
     "output_type": "stream",
     "text": [
      "Searching for size-2 nice sets...\n",
      "\n",
      "Size-2 nice sets found: 43\n",
      "  ['FALSE_2', 'NOR']\n",
      "  ['FALSE_2', 'NAND']\n",
      "  ['FALSE_2', 'IMP']\n",
      "  ['FALSE_2', 'CONV_IMP']\n",
      "  ['NOR', 'XOR']\n",
      "  ... and 38 more\n"
     ]
    }
   ],
   "source": [
    "# Search for size-2 nice sets\n",
    "print(\"Searching for size-2 nice sets...\")\n",
    "size_2_nice_sets = search_nice_sets_enumeration(ALL_BINARY, target_size=2, max_depth=3)\n",
    "\n",
    "print(f\"\\nSize-2 nice sets found: {len(size_2_nice_sets)}\")\n",
    "if size_2_nice_sets:\n",
    "    for nice_set in size_2_nice_sets[:5]:  # Show first 5\n",
    "        print(f\"  {[c.name for c in nice_set]}\")\n",
    "    if len(size_2_nice_sets) > 5:\n",
    "        print(f\"  ... and {len(size_2_nice_sets) - 5} more\")\n",
    "else:\n",
    "    print(\"  None! Two binary connectives cannot be complete.\")"
   ]
  },
  {
   "cell_type": "markdown",
   "metadata": {},
   "source": [
    "### Size 3: The Classical Result\n",
    "\n",
    "Now let's search for size-3 nice sets:"
   ]
  },
  {
   "cell_type": "code",
   "execution_count": 6,
   "metadata": {},
   "outputs": [
    {
     "name": "stdout",
     "output_type": "stream",
     "text": [
      "Searching for size-3 nice sets...\n",
      "(This may take a few seconds)\n",
      "\n",
      "Size-3 nice sets found: 76\n",
      "\n",
      "Examples:\n",
      "  ['FALSE_2', 'NAND', 'IFF']\n",
      "  ['FALSE_2', 'NAND', 'PROJ_Y']\n",
      "  ['FALSE_2', 'NAND', 'PROJ_X']\n",
      "  ['FALSE_2', 'NAND', 'OR']\n",
      "  ['FALSE_2', 'AND', 'IFF']\n",
      "  ['FALSE_2', 'AND', 'IMP']\n",
      "  ['FALSE_2', 'AND', 'CONV_IMP']\n",
      "  ['FALSE_2', 'IFF', 'IMP']\n",
      "  ['FALSE_2', 'IFF', 'CONV_IMP']\n",
      "  ['FALSE_2', 'IFF', 'OR']\n",
      "  ... and 66 more\n"
     ]
    }
   ],
   "source": [
    "# Search for size-3 nice sets\n",
    "print(\"Searching for size-3 nice sets...\")\n",
    "print(\"(This may take a few seconds)\")\n",
    "print()\n",
    "\n",
    "size_3_nice_sets = search_nice_sets_enumeration(ALL_BINARY, target_size=3, max_depth=3)\n",
    "\n",
    "print(f\"Size-3 nice sets found: {len(size_3_nice_sets)}\")\n",
    "print()\n",
    "\n",
    "if size_3_nice_sets:\n",
    "    print(\"Examples:\")\n",
    "    for nice_set in size_3_nice_sets[:10]:  # Show first 10\n",
    "        names = [c.name for c in nice_set]\n",
    "        print(f\"  {names}\")\n",
    "    if len(size_3_nice_sets) > 10:\n",
    "        print(f\"  ... and {len(size_3_nice_sets) - 10} more\")"
   ]
  },
  {
   "cell_type": "markdown",
   "metadata": {},
   "source": [
    "## 3. Analyzing a Size-3 Nice Set\n",
    "\n",
    "Let's examine one size-3 nice set in detail:"
   ]
  },
  {
   "cell_type": "code",
   "execution_count": 7,
   "metadata": {},
   "outputs": [
    {
     "name": "stdout",
     "output_type": "stream",
     "text": [
      "Example nice set:\n",
      "=== Size-3 Nice Set ===\n",
      "Size: 3\n",
      "\n",
      "Arity Distribution:\n",
      "  Arity 2: 3 connectives (100.0%)\n",
      "\n",
      "Connectives:\n",
      "  - FALSE_2 (arity 2)\n",
      "  - NAND (arity 2)\n",
      "  - IFF (arity 2)\n",
      "\n",
      "Complete: True\n",
      "Independent: True\n",
      "\n"
     ]
    },
    {
     "data": {
      "image/png": "[encoded data removed]",
      "text/plain": [
       "<Figure size 1500x400 with 3 Axes>"
      ]
     },
     "metadata": {},
     "output_type": "display_data"
    }
   ],
   "source": [
    "# Pick a nice set to analyze\n",
    "if size_3_nice_sets:\n",
    "    example_set = size_3_nice_sets[0]\n",
    "    \n",
    "    print(\"Example nice set:\")\n",
    "    print_nice_set_summary(example_set, \"Size-3 Nice Set\")\n",
    "    print()\n",
    "    \n",
    "    # Verify it's complete\n",
    "    print(f\"Complete: {is_complete(example_set)}\")\n",
    "    print(f\"Independent: {is_independent(example_set, max_depth=3)}\")\n",
    "    print()\n",
    "    \n",
    "    # Visualize\n",
    "    fig = compare_connectives(example_set)\n",
    "    plt.show()"
   ]
  },
  {
   "cell_type": "markdown",
   "metadata": {},
   "source": [
    "## 4. The Maximum: Size 3\n",
    "\n",
    "Let's verify that size 4 is impossible:"
   ]
  },
  {
   "cell_type": "code",
   "execution_count": 8,
   "metadata": {},
   "outputs": [
    {
     "name": "stdout",
     "output_type": "stream",
     "text": [
      "Searching for size-4 nice sets...\n",
      "(This will take longer - checking many combinations)\n",
      "\n",
      "Size-4 nice sets found: 0\n",
      "\n",
      "✓ Confirmed: Maximum size for binary-only is 3!\n"
     ]
    }
   ],
   "source": [
    "# Search for size-4 nice sets\n",
    "print(\"Searching for size-4 nice sets...\")\n",
    "print(\"(This will take longer - checking many combinations)\")\n",
    "print()\n",
    "\n",
    "size_4_nice_sets = search_nice_sets_enumeration(ALL_BINARY, target_size=4, max_depth=3)\n",
    "\n",
    "print(f\"Size-4 nice sets found: {len(size_4_nice_sets)}\")\n",
    "if not size_4_nice_sets:\n",
    "    print(\"\\n✓ Confirmed: Maximum size for binary-only is 3!\")"
   ]
  },
  {
   "cell_type": "markdown",
   "metadata": {},
   "source": [
    "## 5. Why is Size 4 Impossible?\n",
    "\n",
    "The constraint comes from **independence**:\n",
    "\n",
    "- With 16 total binary connectives\n",
    "- Any set of 4 creates many possible depth-3 compositions\n",
    "- Eventually, one connective becomes definable from the other 3\n",
    "- This violates independence\n",
    "\n",
    "**The maximum size of 3 is a fundamental limit for binary-only connectives.**"
   ]
  },
  {
   "cell_type": "markdown",
   "metadata": {},
   "source": [
    "## 6. Arity Distribution\n",
    "\n",
    "Let's look at the arity distribution in size-3 nice sets:"
   ]
  },
  {
   "cell_type": "code",
   "execution_count": 9,
   "metadata": {},
   "outputs": [
    {
     "data": {
      "image/png": "[encoded data removed]",
      "text/plain": [
       "<Figure size 800x500 with 1 Axes>"
      ]
     },
     "metadata": {},
     "output_type": "display_data"
    },
    {
     "name": "stdout",
     "output_type": "stream",
     "text": [
      "All connectives have arity 2 (binary)\n"
     ]
    }
   ],
   "source": [
    "# Analyze arity distribution\n",
    "if size_3_nice_sets:\n",
    "    example_set = size_3_nice_sets[0]\n",
    "    fig = plot_arity_distribution(example_set, title=\"Arity Distribution: Size-3 Nice Set\")\n",
    "    plt.show()\n",
    "    \n",
    "    print(\"All connectives have arity 2 (binary)\")"
   ]
  },
  {
   "cell_type": "markdown",
   "metadata": {},
   "source": [
    "## 7. Summary Statistics\n",
    "\n",
    "Let's summarize what we found:"
   ]
  },
  {
   "cell_type": "code",
   "execution_count": 10,
   "metadata": {},
   "outputs": [
    {
     "name": "stdout",
     "output_type": "stream",
     "text": [
      "Binary-Only Nice Set Search Results:\n",
      "=====================================\n",
      "Size 1: 2 nice sets\n",
      "Size 2: 43 nice sets\n",
      "Size 3: 76 nice sets\n",
      "Size 4: 0 nice sets\n",
      "\n",
      "✓ Maximum nice set size with binary connectives: 3\n"
     ]
    }
   ],
   "source": [
    "# Summary statistics\n",
    "print(\"Binary-Only Nice Set Search Results:\")\n",
    "print(\"=====================================\")\n",
    "print(f\"Size 1: {len(size_1_nice_sets) if 'size_1_nice_sets' in locals() else 0} nice sets\")\n",
    "print(f\"Size 2: {len(size_2_nice_sets) if 'size_2_nice_sets' in locals() else 0} nice sets\")\n",
    "print(f\"Size 3: {len(size_3_nice_sets) if 'size_3_nice_sets' in locals() else 0} nice sets\")\n",
    "print(f\"Size 4: {len(size_4_nice_sets) if 'size_4_nice_sets' in locals() else 0} nice sets\")\n",
    "print()\n",
    "print(\"✓ Maximum nice set size with binary connectives: 3\")"
   ]
  },
  {
   "cell_type": "markdown",
   "metadata": {},
   "source": [
    "## Summary\n",
    "\n",
    "In this notebook, you learned:\n",
    "- ✓ How to search for nice sets using enumeration\n",
    "- ✓ The classical result: maximum size is 3 for binary-only\n",
    "- ✓ Examples of size-3 nice sets\n",
    "- ✓ Why size 4 is impossible (independence constraint)\n",
    "- ✓ How to analyze arity distributions\n",
    "\n",
    "## Key Finding\n",
    "\n",
    "**Maximum nice set size with binary connectives only: 3**\n",
    "\n",
    "To find larger nice sets, we need to include higher-arity connectives!\n",
    "\n",
    "## Next Steps\n",
    "\n",
    "- **06_search_ternary.ipynb** - Search with ternary connectives (size 17+!)\n",
    "- **[Research Results](../docs/RESULTS.md)** - Current findings (size-35!)"
   ]
  }
 ],
 "metadata": {
  "kernelspec": {
   "display_name": "Python 3 (ipykernel)",
   "language": "python",
   "name": "python3"
  },
  "language_info": {
   "codemirror_mode": {
    "name": "ipython",
    "version": 3
   },
   "file_extension": ".py",
   "mimetype": "text/x-python",
   "name": "python",
   "nbconvert_exporter": "python",
   "pygments_lexer": "ipython3",
   "version": "3.12.8"
  }
 },
 "nbformat": 4,
 "nbformat_minor": 4
}
