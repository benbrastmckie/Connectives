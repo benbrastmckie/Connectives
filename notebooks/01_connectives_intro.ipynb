{
 "cells": [
  {
   "cell_type": "markdown",
   "metadata": {},
   "source": [
    "# Introduction to Logical Connectives\n",
    "\n",
    "This notebook introduces the fundamental concepts of logical connectives in classical two-valued logic.\n",
    "\n",
    "## Learning Objectives\n",
    "\n",
    "By the end of this notebook, you will understand:\n",
    "- What a logical connective is\n",
    "- How truth tables represent connective behavior\n",
    "- Standard binary connectives (AND, OR, XOR, etc.)\n",
    "- Unary and nullary connectives\n",
    "- How to create and manipulate connectives programmatically"
   ]
  },
  {
   "cell_type": "code",
   "execution_count": 1,
   "metadata": {},
   "outputs": [
    {
     "name": "stdout",
     "output_type": "stream",
     "text": [
      "✓ Project root added to path: /home/benjamin/Documents/Philosophy/Projects/Z3/nice_connectives\n"
     ]
    }
   ],
   "source": [
    "# Setup Python path to find the src module\n",
    "import sys\n",
    "from pathlib import Path\n",
    "\n",
    "# Add project root to Python path\n",
    "project_root = Path.cwd().parent\n",
    "if str(project_root) not in sys.path:\n",
    "    sys.path.insert(0, str(project_root))\n",
    "\n",
    "print(f\"✓ Project root added to path: {project_root}\")"
   ]
  },
  {
   "cell_type": "markdown",
   "metadata": {},
   "source": [
    "## 0. Python Path Setup\n",
    "\n",
    "First, let's ensure Python can find the project modules:"
   ]
  },
  {
   "cell_type": "code",
   "execution_count": 2,
   "metadata": {},
   "outputs": [
    {
     "name": "stdout",
     "output_type": "stream",
     "text": [
      "✓ Setup complete\n"
     ]
    }
   ],
   "source": [
    "# Setup\n",
    "from src.connectives import Connective\n",
    "from src.constants import (\n",
    "    AND, OR, XOR, NAND, NOR, EQUIV, IMP,\n",
    "    NOT, TRUE, FALSE,\n",
    "    ALL_BINARY\n",
    ")\n",
    "from notebooks.utils import (\n",
    "    display_truth_table,\n",
    "    visualize_truth_table,\n",
    "    compare_connectives\n",
    ")\n",
    "\n",
    "import matplotlib.pyplot as plt\n",
    "%matplotlib inline\n",
    "\n",
    "print(\"✓ Setup complete\")"
   ]
  },
  {
   "cell_type": "markdown",
   "metadata": {},
   "source": [
    "## 1. What is a Logical Connective?\n",
    "\n",
    "A **logical connective** is a function that takes truth values (0 = false, 1 = true) as input and produces a truth value as output.\n",
    "\n",
    "### Arity\n",
    "\n",
    "The **arity** of a connective is the number of inputs it takes:\n",
    "- **Nullary** (arity 0): Constants like TRUE and FALSE\n",
    "- **Unary** (arity 1): Functions like NOT\n",
    "- **Binary** (arity 2): Functions like AND, OR, XOR\n",
    "- **Ternary** (arity 3): Three-input functions\n",
    "- **n-ary** (arity n): Functions with n inputs\n",
    "\n",
    "### Truth Tables\n",
    "\n",
    "A **truth table** lists all possible input combinations and their corresponding outputs."
   ]
  },
  {
   "cell_type": "markdown",
   "metadata": {},
   "source": [
    "## 2. Nullary Connectives (Constants)\n",
    "\n",
    "Nullary connectives take no inputs and always return the same value:"
   ]
  },
  {
   "cell_type": "code",
   "execution_count": 3,
   "metadata": {},
   "outputs": [
    {
     "name": "stdout",
     "output_type": "stream",
     "text": [
      "TRUE:\n",
      "   output\n",
      "0       1\n",
      "\n",
      "FALSE:\n",
      "   output\n",
      "0       0\n"
     ]
    }
   ],
   "source": [
    "# Constants\n",
    "print(\"TRUE:\")\n",
    "print(display_truth_table(TRUE))\n",
    "print()\n",
    "\n",
    "print(\"FALSE:\")\n",
    "print(display_truth_table(FALSE))"
   ]
  },
  {
   "cell_type": "markdown",
   "metadata": {},
   "source": [
    "## 3. Unary Connectives\n",
    "\n",
    "Unary connectives have 1 input, so there are 2 possible input combinations.\n",
    "This gives us 2² = 4 possible unary connectives.\n",
    "\n",
    "### NOT (Negation)\n",
    "\n",
    "The most important unary connective is NOT, which flips the truth value:"
   ]
  },
  {
   "cell_type": "code",
   "execution_count": 4,
   "metadata": {},
   "outputs": [
    {
     "name": "stdout",
     "output_type": "stream",
     "text": [
      "NOT Truth Table:\n",
      "   x0  output\n",
      "0   0       1\n",
      "1   1       0\n",
      "\n"
     ]
    },
    {
     "data": {
      "image/png": "[encoded data removed]",
      "text/plain": [
       "<Figure size 600x400 with 2 Axes>"
      ]
     },
     "metadata": {},
     "output_type": "display_data"
    }
   ],
   "source": [
    "# NOT connective\n",
    "print(\"NOT Truth Table:\")\n",
    "print(display_truth_table(NOT))\n",
    "print()\n",
    "\n",
    "# Visualize\n",
    "fig = visualize_truth_table(NOT)\n",
    "plt.show()"
   ]
  },
  {
   "cell_type": "markdown",
   "metadata": {},
   "source": [
    "### Exercise: All Unary Connectives\n",
    "\n",
    "Let's create all 4 possible unary connectives:"
   ]
  },
  {
   "cell_type": "code",
   "execution_count": 5,
   "metadata": {},
   "outputs": [
    {
     "name": "stdout",
     "output_type": "stream",
     "text": [
      "0:\n",
      "   x0  output\n",
      "0   0       0\n",
      "1   1       0\n",
      "\n",
      "NOT:\n",
      "   x0  output\n",
      "0   0       1\n",
      "1   1       0\n",
      "\n",
      "ID:\n",
      "   x0  output\n",
      "0   0       0\n",
      "1   1       1\n",
      "\n",
      "1:\n",
      "   x0  output\n",
      "0   0       1\n",
      "1   1       1\n",
      "\n"
     ]
    }
   ],
   "source": [
    "# All unary connectives (truth table values 0-3)\n",
    "unary_connectives = [Connective(1, i) for i in range(4)]\n",
    "\n",
    "for conn in unary_connectives:\n",
    "    print(f\"{conn.name}:\")\n",
    "    print(display_truth_table(conn))\n",
    "    print()"
   ]
  },
  {
   "cell_type": "markdown",
   "metadata": {},
   "source": [
    "## 4. Binary Connectives\n",
    "\n",
    "Binary connectives have 2 inputs, giving 2² = 4 possible input combinations.\n",
    "This yields 2⁴ = 16 possible binary connectives.\n",
    "\n",
    "### The Five Most Important Binary Connectives"
   ]
  },
  {
   "cell_type": "markdown",
   "metadata": {},
   "source": [
    "### AND (Conjunction)\n",
    "\n",
    "AND returns true only when both inputs are true:"
   ]
  },
  {
   "cell_type": "code",
   "execution_count": 6,
   "metadata": {},
   "outputs": [
    {
     "name": "stdout",
     "output_type": "stream",
     "text": [
      "AND Truth Table:\n",
      "   x0  x1  output\n",
      "0   0   0       0\n",
      "1   1   0       0\n",
      "2   0   1       0\n",
      "3   1   1       1\n"
     ]
    }
   ],
   "source": [
    "print(\"AND Truth Table:\")\n",
    "print(display_truth_table(AND))"
   ]
  },
  {
   "cell_type": "markdown",
   "metadata": {},
   "source": [
    "### OR (Disjunction)\n",
    "\n",
    "OR returns true when at least one input is true:"
   ]
  },
  {
   "cell_type": "code",
   "execution_count": 7,
   "metadata": {},
   "outputs": [
    {
     "name": "stdout",
     "output_type": "stream",
     "text": [
      "OR Truth Table:\n",
      "   x0  x1  output\n",
      "0   0   0       0\n",
      "1   1   0       1\n",
      "2   0   1       1\n",
      "3   1   1       1\n"
     ]
    }
   ],
   "source": [
    "print(\"OR Truth Table:\")\n",
    "print(display_truth_table(OR))"
   ]
  },
  {
   "cell_type": "markdown",
   "metadata": {},
   "source": [
    "### XOR (Exclusive OR)\n",
    "\n",
    "XOR returns true when inputs differ:"
   ]
  },
  {
   "cell_type": "code",
   "execution_count": 8,
   "metadata": {},
   "outputs": [
    {
     "name": "stdout",
     "output_type": "stream",
     "text": [
      "XOR Truth Table:\n",
      "   x0  x1  output\n",
      "0   0   0       0\n",
      "1   1   0       1\n",
      "2   0   1       1\n",
      "3   1   1       0\n"
     ]
    }
   ],
   "source": [
    "print(\"XOR Truth Table:\")\n",
    "print(display_truth_table(XOR))"
   ]
  },
  {
   "cell_type": "markdown",
   "metadata": {},
   "source": [
    "### NAND (NOT AND)\n",
    "\n",
    "NAND is the negation of AND:"
   ]
  },
  {
   "cell_type": "code",
   "execution_count": 9,
   "metadata": {},
   "outputs": [
    {
     "name": "stdout",
     "output_type": "stream",
     "text": [
      "NAND Truth Table:\n",
      "   x0  x1  output\n",
      "0   0   0       1\n",
      "1   1   0       1\n",
      "2   0   1       1\n",
      "3   1   1       0\n"
     ]
    }
   ],
   "source": [
    "print(\"NAND Truth Table:\")\n",
    "print(display_truth_table(NAND))"
   ]
  },
  {
   "cell_type": "markdown",
   "metadata": {},
   "source": [
    "### IMP (Implication)\n",
    "\n",
    "IMP represents logical implication: \"if x then y\":"
   ]
  },
  {
   "cell_type": "code",
   "execution_count": 10,
   "metadata": {},
   "outputs": [
    {
     "name": "stdout",
     "output_type": "stream",
     "text": [
      "IMP Truth Table:\n",
      "   x0  x1  output\n",
      "0   0   0       1\n",
      "1   1   0       0\n",
      "2   0   1       1\n",
      "3   1   1       1\n"
     ]
    }
   ],
   "source": [
    "print(\"IMP Truth Table:\")\n",
    "print(display_truth_table(IMP))"
   ]
  },
  {
   "cell_type": "markdown",
   "metadata": {},
   "source": [
    "### Comparing All Five\n",
    "\n",
    "Let's visualize these five connectives together:"
   ]
  },
  {
   "cell_type": "code",
   "execution_count": 11,
   "metadata": {},
   "outputs": [
    {
     "data": {
      "image/png": "[encoded data removed]",
      "text/plain": [
       "<Figure size 1500x400 with 5 Axes>"
      ]
     },
     "metadata": {},
     "output_type": "display_data"
    }
   ],
   "source": [
    "fig = compare_connectives(\n",
    "    [AND, OR, XOR, NAND, IMP],\n",
    "    titles=[\"AND\", \"OR\", \"XOR\", \"NAND\", \"IMP\"]\n",
    ")\n",
    "plt.show()"
   ]
  },
  {
   "cell_type": "markdown",
   "metadata": {},
   "source": [
    "## 5. All 16 Binary Connectives\n",
    "\n",
    "The library provides all 16 binary connectives as `ALL_BINARY`:"
   ]
  },
  {
   "cell_type": "code",
   "execution_count": 12,
   "metadata": {},
   "outputs": [
    {
     "name": "stdout",
     "output_type": "stream",
     "text": [
      "Total binary connectives: 16\n",
      "\n",
      " 1. FALSE_2         (truth table:  0 = 0b0000)\n",
      " 2. NOR             (truth table:  1 = 0b0001)\n",
      " 3. INHIBIT         (truth table:  2 = 0b0010)\n",
      " 4. NOT_X           (truth table:  3 = 0b0011)\n",
      " 5. CONV_INHIBIT    (truth table:  4 = 0b0100)\n",
      " 6. NOT_Y           (truth table:  5 = 0b0101)\n",
      " 7. XOR             (truth table:  6 = 0b0110)\n",
      " 8. NAND            (truth table:  7 = 0b0111)\n",
      " 9. AND             (truth table:  8 = 0b1000)\n",
      "10. IFF             (truth table:  9 = 0b1001)\n",
      "11. PROJ_Y          (truth table: 10 = 0b1010)\n",
      "12. IMP             (truth table: 11 = 0b1011)\n",
      "13. PROJ_X          (truth table: 12 = 0b1100)\n",
      "14. CONV_IMP        (truth table: 13 = 0b1101)\n",
      "15. OR              (truth table: 14 = 0b1110)\n",
      "16. TRUE_2          (truth table: 15 = 0b1111)\n"
     ]
    }
   ],
   "source": [
    "# Display all binary connectives\n",
    "print(f\"Total binary connectives: {len(ALL_BINARY)}\")\n",
    "print()\n",
    "\n",
    "for i, conn in enumerate(ALL_BINARY):\n",
    "    print(f\"{i+1:2d}. {conn.name:15} (truth table: {conn.truth_table_int:2d} = 0b{conn.truth_table_int:04b})\")"
   ]
  },
  {
   "cell_type": "markdown",
   "metadata": {},
   "source": [
    "### Exercise: Explore Interesting Patterns\n",
    "\n",
    "Let's look at some interesting binary connectives:"
   ]
  },
  {
   "cell_type": "code",
   "execution_count": 13,
   "metadata": {},
   "outputs": [
    {
     "name": "stdout",
     "output_type": "stream",
     "text": [
      "EQUIV (x ↔ y):\n",
      "   x0  x1  output\n",
      "0   0   0       1\n",
      "1   1   0       0\n",
      "2   0   1       0\n",
      "3   1   1       1\n",
      "\n",
      "NOR (¬(x ∨ y)):\n",
      "   x0  x1  output\n",
      "0   0   0       1\n",
      "1   1   0       0\n",
      "2   0   1       0\n",
      "3   1   1       0\n"
     ]
    }
   ],
   "source": [
    "# EQUIV (equivalence): returns true when inputs are equal\n",
    "print(\"EQUIV (x ↔ y):\")\n",
    "print(display_truth_table(EQUIV))\n",
    "print()\n",
    "\n",
    "# NOR (NOT OR): returns true only when both inputs are false\n",
    "print(\"NOR (¬(x ∨ y)):\")\n",
    "print(display_truth_table(NOR))"
   ]
  },
  {
   "cell_type": "markdown",
   "metadata": {},
   "source": [
    "## 6. Creating Custom Connectives\n",
    "\n",
    "You can create any connective by specifying its truth table value:"
   ]
  },
  {
   "cell_type": "code",
   "execution_count": 14,
   "metadata": {},
   "outputs": [
    {
     "name": "stdout",
     "output_type": "stream",
     "text": [
      "Connective: PROJ_Y\n",
      "   x0  x1  output\n",
      "0   0   0       0\n",
      "1   1   0       0\n",
      "2   0   1       1\n",
      "3   1   1       1\n",
      "\n",
      "Notice: output always equals x0 (first input)\n"
     ]
    }
   ],
   "source": [
    "# Create a binary connective with truth table value 10\n",
    "# Binary 1010 means: output = x0 (projection onto first input)\n",
    "projection_x0 = Connective(2, 10)\n",
    "\n",
    "print(f\"Connective: {projection_x0.name}\")\n",
    "print(display_truth_table(projection_x0))\n",
    "print()\n",
    "print(\"Notice: output always equals x0 (first input)\")"
   ]
  },
  {
   "cell_type": "markdown",
   "metadata": {},
   "source": [
    "## 7. Interactive Exercises\n",
    "\n",
    "### Exercise 1: Find the Connective\n",
    "\n",
    "What is the truth table value for a binary connective that returns true only when both inputs are false?"
   ]
  },
  {
   "cell_type": "code",
   "execution_count": 15,
   "metadata": {},
   "outputs": [
    {
     "name": "stdout",
     "output_type": "stream",
     "text": [
      "Your connective:\n",
      "   x0  x1  output\n",
      "0   0   0       1\n",
      "1   1   0       0\n",
      "2   0   1       0\n",
      "3   1   1       0\n",
      "\n",
      "This is: NOR\n"
     ]
    }
   ],
   "source": [
    "# Your answer: create the connective\n",
    "mystery_connective = Connective(2, 1)  # Try different values!\n",
    "\n",
    "print(\"Your connective:\")\n",
    "print(display_truth_table(mystery_connective))\n",
    "print()\n",
    "print(f\"This is: {mystery_connective.name}\")"
   ]
  },
  {
   "cell_type": "markdown",
   "metadata": {},
   "source": [
    "### Exercise 2: Connective Relationships\n",
    "\n",
    "Compare AND and NAND. What is the relationship?"
   ]
  },
  {
   "cell_type": "code",
   "execution_count": 16,
   "metadata": {},
   "outputs": [
    {
     "name": "stdout",
     "output_type": "stream",
     "text": [
      "AND vs NAND comparison:\n",
      "AND(0,0)=0, NAND(0,0)=1, Equal? False\n",
      "AND(0,1)=0, NAND(0,1)=1, Equal? False\n",
      "AND(1,0)=0, NAND(1,0)=1, Equal? False\n",
      "AND(1,1)=1, NAND(1,1)=0, Equal? False\n"
     ]
    }
   ],
   "source": [
    "# Compare outputs\n",
    "print(\"AND vs NAND comparison:\")\n",
    "for x in [0, 1]:\n",
    "    for y in [0, 1]:\n",
    "        and_result = AND.evaluate(x, y)\n",
    "        nand_result = NAND.evaluate(x, y)\n",
    "        print(f\"AND({x},{y})={and_result}, NAND({x},{y})={nand_result}, \"\n",
    "              f\"Equal? {and_result == nand_result}\")"
   ]
  },
  {
   "cell_type": "markdown",
   "metadata": {},
   "source": [
    "### Exercise 3: Truth Table Value\n",
    "\n",
    "Given this truth table, what is the truth table value?\n",
    "\n",
    "```\n",
    "x0 | x1 | output\n",
    "---+----+-------\n",
    " 0 |  0 |   1\n",
    " 0 |  1 |   1\n",
    " 1 |  0 |   1\n",
    " 1 |  1 |   0\n",
    "```\n",
    "\n",
    "Hint: Read outputs from bottom to top as binary."
   ]
  },
  {
   "cell_type": "code",
   "execution_count": 17,
   "metadata": {},
   "outputs": [
    {
     "name": "stdout",
     "output_type": "stream",
     "text": [
      "   x0  x1  output\n",
      "0   0   0       1\n",
      "1   1   0       1\n",
      "2   0   1       1\n",
      "3   1   1       0\n",
      "This is: NAND\n"
     ]
    }
   ],
   "source": [
    "# Answer: 0111 in binary (reading row 3,2,1,0) = 7 in decimal\n",
    "# But wait! Row ordering is (0,0)=row0, (0,1)=row1, (1,0)=row2, (1,1)=row3\n",
    "# So outputs 1,1,1,0 → binary 0111 → decimal 7\n",
    "mystery = Connective(2, 7)\n",
    "print(display_truth_table(mystery))\n",
    "print(f\"This is: {mystery.name}\")"
   ]
  },
  {
   "cell_type": "markdown",
   "metadata": {},
   "source": [
    "## Summary\n",
    "\n",
    "In this notebook, you learned:\n",
    "- ✓ What logical connectives are\n",
    "- ✓ Nullary (constants), unary, and binary connectives\n",
    "- ✓ Standard binary connectives (AND, OR, XOR, NAND, IMP)\n",
    "- ✓ All 16 binary connectives\n",
    "- ✓ How to create and explore connectives programmatically\n",
    "\n",
    "## Next Steps\n",
    "\n",
    "- **02_truth_tables.ipynb** - Deep dive into BitVec encoding\n",
    "- **03_completeness.ipynb** - Post's completeness theorem\n",
    "- **04_independence.ipynb** - Independence checking"
   ]
  }
 ],
 "metadata": {
  "kernelspec": {
   "display_name": "Python 3 (ipykernel)",
   "language": "python",
   "name": "python3"
  },
  "language_info": {
   "codemirror_mode": {
    "name": "ipython",
    "version": 3
   },
   "file_extension": ".py",
   "mimetype": "text/x-python",
   "name": "python",
   "nbconvert_exporter": "python",
   "pygments_lexer": "ipython3",
   "version": "3.12.8"
  }
 },
 "nbformat": 4,
 "nbformat_minor": 4
}
